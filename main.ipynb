{
 "cells": [
  {
   "cell_type": "markdown",
   "metadata": {},
   "source": [
    "# Final Report"
   ]
  },
  {
   "cell_type": "markdown",
   "metadata": {},
   "source": [
    "# Social Network Analysis Project: Report 1\n",
    "# Exploring the *Titanic* dataset\n",
    "\n",
    "## Introduction - *Unveiling Titanic's Social Fabric: A Network Analysis*\n",
    "\n",
    "### Group F members\n",
    "The minds behind this journey are: **Leonardo Azzi**, **Sofia Bruni**, **Francesca Romana Sanna**, **Alexandra Tabarani** and **Marta Torella**, five students of the Bachelor in Management and Computer Science.\n",
    "\n",
    "Throughout the course weeks, we aim to not only visually represent these connections but also analyze them through various graph metrics.\n",
    "\n",
    "In our project, the **characters** aboard the Titanic take center stage as *nodes*, while the *edges* connecting them represent **shared scenes**, their *weights* reflecting the **frequency** of these shared appearences.\n",
    "This analytical approach allows us to decode the complex web of interactions that shaped the destinies of the movie characters.\n",
    "\n",
    "Through meticulous examination, we will be able to uncover the characters as well as the patterns of connection that lie underneath the narrative.\n",
    "\n",
    "*Join us as we sail through the Titanic's data!*"
   ]
  },
  {
   "cell_type": "markdown",
   "metadata": {},
   "source": [
    "### Imports\n",
    "We start by importing the necessary libraries for our analysis."
   ]
  },
  {
   "cell_type": "code",
   "execution_count": null,
   "metadata": {},
   "outputs": [],
   "source": [
    "# Basic Imports with aliases\n",
    "import numpy as np \n",
    "import matplotlib.pyplot as plt\n",
    "import csv\n",
    "import networkx as nx"
   ]
  },
  {
   "cell_type": "markdown",
   "metadata": {},
   "source": [
    "## Week 1: Networks\n",
    "## *Introduction to Graph Creation and Basic Analysis*\n",
    "\n",
    "### Objective\n",
    "The primary objective this week was to construct a visual representation of a graph, representing the relationships and interactions among the characters in the Titanic dataset.\n",
    "\n",
    "### Graph Construction\n",
    "In our graphical illustration:\n",
    "- **Nodes** represent individual *characters* in the movie\n",
    "- **Edges** indicate the presence of a *shared scene* between two characters\n",
    "- **Edge weights** reflect the *frequency* of these shared scenes\n",
    "\n",
    "### Graph Analysis\n",
    "We then analyzed the graph by determining some of its basic properties:\n",
    "- **Total number of nodes and edges**: to understand the *scale and complexity* of the graph\n",
    "- **Average degree**: computed using the formula $\\frac{2E}{N}$, where $E$ stands for the total number of edges and $N$ is the number of nodes, giving an average of *connections per node*\n",
    "- **Graph density**: calculated with $D = \\frac{2E}{N \\times (N-1)}$, where $D$ is the density, $E$ is the number of edges and $N$ is the number of nodes. This metric is useful to understand how many connections are present in the graph, compared to the maximum possible number of connections, hence providing an insight into the *overall connectivity*. The density of a graph can range from 0 to 1, with 0 indicating a graph with no edges and 1 a graph with the maximum number of edges.\n",
    "\n",
    "### Insights gained\n",
    "By computing these metrics, we were able to gain a better understanding of the graph's structure and complexity: we have a *weighted* and *undirected* graph, with 70 nodes and 299 edges. In particular, we obtained a foundational knowledge that will be expanded upon in the following weeks."
   ]
  },
  {
   "cell_type": "markdown",
   "metadata": {},
   "source": [
    "### Loading the **Graph** from the given CSV files"
   ]
  },
  {
   "cell_type": "code",
   "execution_count": null,
   "metadata": {},
   "outputs": [],
   "source": [
    "G = nx.Graph() # Create a graph\n",
    "\n",
    "# Read nodes from *nodes.csv* file\n",
    "with open('../Project/Graph/nodes.csv', 'r') as file:       # Open the CSV file\n",
    "    reader = csv.DictReader(file)                   # DictReader is a class that reads a CSV file and converts it into a dictionary\n",
    "    for row in reader:                              # Iterate over the rows of the CSV file, each row is a dictionary\n",
    "        G.add_node(row['Id'], label=row['Label'])   # Add a node to the graph with the node id and label\n",
    "\n",
    "# Read edges from *edges.csv* file\n",
    "with open('../Project/Graph/edges.csv', 'r') as file:\n",
    "    reader = csv.DictReader(file)\n",
    "    for row in reader:\n",
    "        G.add_edge(row['Source'], row['Target'], weight=int(row['Weight'])) # Add an edge to the graph with the source, target and weight\n"
   ]
  },
  {
   "cell_type": "markdown",
   "metadata": {},
   "source": [
    "### Plotting the graph"
   ]
  },
  {
   "cell_type": "code",
   "execution_count": null,
   "metadata": {},
   "outputs": [],
   "source": [
    "# Setting up the plot dimensions\n",
    "plt.figure(figsize=(18, 18))\n",
    "\n",
    "# Use the spring layout algorithm for positioning the nodes\n",
    "pos = nx.spring_layout(G)\n",
    "\n",
    "# Adjust node sizes based on their degrees\n",
    "node_sizes = [v * 100 for v in dict(G.degree()).values()]\n",
    "\n",
    "# Adjust edge widths based on their weights\n",
    "edge_widths = [d['weight'] for _, _, d in G.edges(data=True)]\n",
    "\n",
    "# Draw the graph\n",
    "nx.draw_networkx_nodes(G, pos, node_size=node_sizes, node_color='skyblue', alpha=0.6)\n",
    "nx.draw_networkx_edges(G, pos, width=edge_widths, alpha=0.5)\n",
    "nx.draw_networkx_labels(G, pos, labels=nx.get_node_attributes(G, 'label'), font_size=10)\n",
    "\n",
    "plt.title(\"Titanic Social Network with Weighted Edges\")\n",
    "plt.axis(\"off\")\n",
    "plt.show()"
   ]
  },
  {
   "cell_type": "markdown",
   "metadata": {},
   "source": [
    "### Graph Metrics\n",
    "\n",
    "We found number of nodes, edges, average degree and density of the graph, using basic networkx functions."
   ]
  },
  {
   "cell_type": "code",
   "execution_count": null,
   "metadata": {},
   "outputs": [
    {
     "name": "stdout",
     "output_type": "stream",
     "text": [
      "Number of nodes:  70\n",
      "Number of edges:  299\n",
      "Average degree:  8.542857142857143\n",
      "Density:  0.12380952380952381\n"
     ]
    }
   ],
   "source": [
    "#number of nodes\n",
    "print(\"Number of nodes: \", G.number_of_nodes())\n",
    "\n",
    "#number of edges\n",
    "print(\"Number of edges: \", G.number_of_edges())\n",
    "\n",
    "#average degree\n",
    "print(\"Average degree: \", np.mean([d for n, d in G.degree()]))\n",
    "\n",
    "#density\n",
    "print(\"Density: \", nx.density(G))\n"
   ]
  },
  {
   "cell_type": "markdown",
   "metadata": {},
   "source": [
    "## Week 2: Small Worlds\n",
    "## *Measures and Properties in Networks*\n",
    "\n",
    "### Objective\n",
    "This week goal was to exploit some centrality measures - **average clustering** and **transitivity** - in order to better analyze the network's structural characteristics by identifying the key nodes and the presence of clusters.\n",
    "\n",
    "### Average Clustering and Transitivity with *NetworkX*\n",
    "As a first step, we implemented the average clustering and the transitivity by using the respective built-in functions in NetworkX; both metrics were used to understand the interconnectivity among nodes in our graph:\n",
    "- **Average clustering**: the *average* of the *clustering coefficients* -- $C = 1/n(\\sum_{i=1}^n C_i)$ -- where $C_i$ is the clustering coefficient and $n$ is the number of nodes. Each clustering coefficient is computed as the ratio of the *number of triangles* in which a node $i$ participates, over the *number of wedges* of that same node -- $[ki(ki-1)/2)]$ -- where $ki$ is the degree of node $i$\n",
    "- **Transitivity**: the *ratio* between the total *number of triangles* over the *number of wedges* divided by three -- $T = 3 \\frac{\\#triangles}{\\#wedges}$. This mathematical formula could also be expressed as the number of triangles times three, over the *sum* of all *clustering coefficients* -- $T = 3 \\frac{\\#triangles}{\\sum_{i=1}^n C_i}$\n",
    "\n",
    "### Implementation of our Transitivity Function\n",
    "In the second part of this task, we had to implement from scratch our own function to compute the transitivity of the graph.\\\n",
    "We did so by following the mathematical formula provided above; in particular, we first count the *number of triangles* by iterating over each node: by doing so, we are able to find the *neighbours* of each node and register the *common* ones between one node and its neighbours (indicating number of triangles involving the current node).\\\n",
    "Then we divide the triangles *by 6*, since each one was originally counted six times (twice for each node of the triangle).\\\n",
    "Once we obtain the total number of triangles, we start looking for the wedges (or connected triples) by iterating again through each node, in order to identify once again neighbours and degree to apply the mathematical formula for *number of wedges* -- $[ki(ki-1)/2)]$.\\\n",
    "The final step of our code computes the **transitivity** as the number of triangles times three, over the number of wedges.\n",
    "\n",
    "### Insights gained\n",
    "With our functions, we discover that **transitivity** is equal to 0.3935, while **average clustering** is 0.7436. These two metrics are useful to understand the *interconnectivity* of the graph, as well as the presence of *clusters*, namely groups of nodes that are more densely connected to each other than to the rest of the graph. The numbers obtained tell us that the average clustering is fairly high, meaning that nodes tend to form *clusters* with their neighbours; however the transitivity is lower, so while there are local clusters, they may *not* be *as interconnected* across the entire network."
   ]
  },
  {
   "cell_type": "markdown",
   "metadata": {},
   "source": [
    "### Transitivity and Average Clustering: Basic Networkx functions"
   ]
  },
  {
   "cell_type": "code",
   "execution_count": null,
   "metadata": {},
   "outputs": [
    {
     "name": "stdout",
     "output_type": "stream",
     "text": [
      "Average Clustering: 0.7436551486762099\n",
      "Transitivity: 0.39350485027414595\n"
     ]
    }
   ],
   "source": [
    "# Compute Average Clustering\n",
    "avg_clustering = nx.average_clustering(G)\n",
    "\n",
    "# Compute Transitivity\n",
    "transitivity = nx.transitivity(G)\n",
    "\n",
    "print(\"Average Clustering:\", avg_clustering)\n",
    "print(\"Transitivity:\", transitivity)"
   ]
  },
  {
   "cell_type": "markdown",
   "metadata": {},
   "source": [
    "## Custom Transitivity Function\n",
    "#### Computing Transitivity using a custom function and basic Networkx functions"
   ]
  },
  {
   "cell_type": "code",
   "execution_count": null,
   "metadata": {},
   "outputs": [
    {
     "data": {
      "text/plain": [
       "0.39350485027414595"
      ]
     },
     "metadata": {},
     "output_type": "display_data"
    }
   ],
   "source": [
    "# Redefine the compute_transitivity function\n",
    "\n",
    "def compute_transitivity(graph):\n",
    "    triangles = 0   # Initialize a counter for the number of triangles in the graph\n",
    "    \n",
    "    for node in graph.nodes():  # Iterate through each node in the graph\n",
    "        neighbors = set(graph.neighbors(node))  # Store the neighbors of the current node in a set\n",
    "        for neighbor in neighbors:  # Iterate through the neighbors of the current node\n",
    "            common_neighbors = set(graph.neighbors(neighbor)) & neighbors   # Find the common neighbors of the current node and its neighbor\n",
    "            triangles += len(common_neighbors)  # Add the number of common neighbors to the triangle count\n",
    "\n",
    "    triangles = triangles // 6  # Each triangle is counted 6 times (once for each permutation of the three nodes)\n",
    "\n",
    "    connected_triples = 0   # Initialize a counter for the number of connected triples in the graph\n",
    "\n",
    "    for node in graph.nodes():\n",
    "        k = len(list(graph.neighbors(node)))    # Get the degree (number of neighbors) of the current node\n",
    "        connected_triples += k * (k - 1) // 2   # Add the number of connected triples to the count\n",
    "    \n",
    "    # Compute and return the transitivity, avoid division by zero\n",
    "    if connected_triples == 0:\n",
    "        return 0\n",
    "    else:\n",
    "        return (3 * triangles) / connected_triples\n",
    "\n",
    "# Compute the transitivity for the graph\n",
    "transitivity = compute_transitivity(G)\n",
    "transitivity\n"
   ]
  },
  {
   "cell_type": "markdown",
   "metadata": {},
   "source": [
    "## Week 3: Hubs\n",
    "## *Degree and Other Centrality Measures*\n",
    "\n",
    "### Objective\n",
    "This week objective challenged us in identifying the most relevant centrality measure among the ones provided; hence, after implementing the **Closeness Centrality** function, we also provided its **cumulative distribution**. \n",
    "\n",
    "## *Closeness Centrality Function*\n",
    "### Why?\n",
    "The first part involved the choice of a centrality measure, and we decided to dig deeper into our network by computing the **Closeness Centrality**.\\\n",
    "In our graph, this metric appeared particularly pertinent as it provides insights into how proximate a node (representing a character in this context) is to all other nodes in the network.\\\n",
    "Note that the weight of the edges connecting the nodes represent the occurence of the two characters in the same scene; hence, we wanted to discover which character had the *largest screen presence* in the movie. Therefore, we picked the Closeness Centrality measure since a node with a high closeness centrality score is one that is *closer*, on average, *to all other nodes* in the network. \n",
    "\n",
    "### Implementation of the function\n",
    "Our first step was to define a function to compute weighted shortest path lengths from a source node using *BFS*: as a matter of fact we initialized a *'visited' set* to keep track of the visited nodes, a *'dist' dictionary* to store the shortest paths where the keys are nodes, and the values are their respective shortest path lengths from the source node, and a *'queue'* implemented as a dequeue to simulate the behaviour of a Breadth-First Search.\\\n",
    "Hence, by iterating over the nodes in the queue the function keeps updating the *shortest path distance*s as it encounters a node that has not still been visited or a distance smaller than the one previously stored (remember we are looking for the shortest paths).\\\n",
    "The second step we took was to define a second function to compute the shortest path between each node and to directly apply to each node the mathematical formula of the Closeness Centrality to each node/character: for each node, the current function calls the *weighted_shortest_path_lengths function* to calculate the shortest path lengths from that node to all other nodes.\\\n",
    "Then, it computes the closeness centrality for the current node using the *inverse* of the average of the shortest path lenght, and  finally it stores the result in the closeness dictionary.\n",
    "\n",
    "## *Cumulative Distribution Function*\n",
    "In order to better vizualize how the centrality values are distributed across the nodes in a network we were also required to display the **cumulative distribution** plot of our previously obtained centrality values.\\\n",
    "The function first sorts the centrality values in ascending order using *np.sort*; it then calculates the cumulative probability of each value by dividing its position in the sorted list by the total number of values.\\\n",
    "Next, it creates a *matplotlib figure* and plots the sorted centrality values on the x-axis and their cumulative probability on the y-axis.\\\n",
    "In this case we decided to insert as a parameter of the function the options for the scaling of the graph: we went for a logarithmically scaling of the graph *(loglog')*, since we are dealing with a wide range of centrality values; however, we also set as an option the *'log'* scale only for the x-axis which would let the y-axis in linear scale.\\\n",
    "Finally, the plt.show() function is used to display the cumulative distribution plot.\n",
    "\n",
    "\n",
    "### Insights gained\n",
    "No wonders if we tell you that the most central node - and character - in our graph has resulted to be *Rose* with a Closeness centrality of 0.556; remark that the Closeness Centrality value is between [0,1], which means that our female leader has a moderate level of centrality (a value of 0 indicates that a node is maximally distant from all other nodes, while a value of 1 means that a node is the closest to all other nodes).\\\n",
    "If we take a look at the Cumulative Distribution Function graph, we will notice a second blue point just behind the highest one (corresponding to the node with maximum centrality, Rose): it's *Jake's* centrality value, almost identical to Rose's value: who knows, maybe if they had shared that raft during the sinking od the Titanic, now they would have had the same closeness centrality value. "
   ]
  },
  {
   "cell_type": "code",
   "execution_count": null,
   "metadata": {},
   "outputs": [
    {
     "data": {
      "image/png": "[encoded data removed]",
      "text/plain": [
       "<Figure size 1000x600 with 1 Axes>"
      ]
     },
     "metadata": {},
     "output_type": "display_data"
    },
    {
     "name": "stdout",
     "output_type": "stream",
     "text": [
      "Most Central Node is: ROSE (ID: 5097316)\n",
      "With a closeness centrality of: 0.566\n"
     ]
    }
   ],
   "source": [
    "import numpy as np\n",
    "import matplotlib.pyplot as plt\n",
    "from collections import deque\n",
    "\n",
    "# Function to compute weighted shortest path lengths from a source node using BFS\n",
    "def weighted_shortest_path_lengths(G, source):\n",
    "    visited = set([source])\n",
    "    dist = {source: 0}\n",
    "    queue = deque([(source, 0)])  # nodes to explore: (node, distance_so_far)\n",
    "\n",
    "    while queue:\n",
    "        (current_node, path_length) = queue.popleft()\n",
    "\n",
    "        for neighbor in G.neighbors(current_node):\n",
    "            edge_weight = G.get_edge_data(current_node, neighbor)['weight']\n",
    "            new_path_length = path_length + edge_weight\n",
    "\n",
    "            if neighbor not in visited or new_path_length < dist[neighbor]:\n",
    "                visited.add(neighbor)\n",
    "                dist[neighbor] = new_path_length\n",
    "                queue.append((neighbor, new_path_length))\n",
    "\n",
    "    return dist\n",
    "\n",
    "# Function to compute closeness centrality using basic functions\n",
    "def compute_closeness_centrality(G):\n",
    "    closeness = {}\n",
    "    n_minus_1 = len(G) - 1\n",
    "\n",
    "    for node in G.nodes:\n",
    "        shortest_path_lengths = weighted_shortest_path_lengths(G, node)\n",
    "        closeness[node] = n_minus_1 / sum(shortest_path_lengths.values())\n",
    "        \n",
    "    return closeness\n",
    "\n",
    "# Function to plot the cumulative distribution of closeness centrality\n",
    "def plot_cumulative_distribution(centrality_values, title, scale_type='loglog'):\n",
    "    sorted_values = np.sort(list(centrality_values.values()))\n",
    "    y_vals = np.arange(len(sorted_values)) / float(len(sorted_values))\n",
    "    plt.figure(figsize=(10, 6))\n",
    "    plt.plot(sorted_values, y_vals, marker='o')\n",
    "    if scale_type == 'loglog':\n",
    "        plt.xscale('log')\n",
    "        plt.yscale('log')\n",
    "    elif scale_type == 'log':\n",
    "        plt.xscale('log')\n",
    "    plt.title(f'Cumulative Distribution of {title}')\n",
    "    plt.xlabel(title)\n",
    "    plt.ylabel('Cumulative Distribution')\n",
    "    plt.grid(True)\n",
    "    plt.show()\n",
    "\n",
    "# Compute closeness centrality\n",
    "closeness_centrality = compute_closeness_centrality(G)\n",
    "\n",
    "# Find the most central node\n",
    "most_central_node, max_centrality = max(closeness_centrality.items(), key=lambda x: x[1])\n",
    "\n",
    "# Accessing label directly from the graph G\n",
    "most_central_node_label = G.nodes[most_central_node]['label']\n",
    "\n",
    "# Plotting with different types of scales\n",
    "plot_cumulative_distribution(closeness_centrality, 'Closeness Centrality', 'linear')\n",
    "\n",
    "most_central_node_info = (\n",
    "    f\"Most Central Node is: {most_central_node_label} (ID: {most_central_node})\\nWith a closeness centrality of: {max_centrality:.3f}\"\n",
    ")\n",
    "\n",
    "print(most_central_node_info)"
   ]
  },
  {
   "cell_type": "markdown",
   "metadata": {},
   "source": [
    "## Week 5: PageRank function\n",
    "### Objective\n",
    "This week objective is to write a function to compute the **PageRank** of the nodes in the graph and identify the node with the highest value. Moreover, we need to compare it with the one we got in Week 3 and draw our conclusions,as well as provide the **cumulative distribution** and again comparing it with the one we got in Week 3, commenting all the results obtained. \n",
    "\n",
    "## *PageRank function*\n",
    "First of all, with *load_graph* function we read nodes and edges from CSV files and constructed a directed graph. Then, we implemented a *PageRank function* that we called *calculate_pagerank*: it initializes the PageRank scores at 1/number of nodes, this means that at the beginning each node is considered equally important.  After that the function iteratively updates them using the function (scriviamola non so come si fa). At each iteration, it checks if the PageRank values have converged, and this is done by calculating the sum of absolute differences between the new and old PageRank scores. \n",
    "\n",
    "### Understanding the PageRank function\n",
    "If it is less than 1×10^−6, it considers the algorithm to have converged. Finally,  the function returns the PageRank values and the number of iterations it took to converge. If the PageRank doesn't converge within the specified number of iterations, it will return the values at the last iteration.The **PageRank values** that are returned represent the relative **\"importance\" or \"authority\"** of each node within the network. Nodes with **higher PageRank values** are considered to be **more important or to have more influence** within the network.\n",
    "\n",
    "## *Function to plot the cumulative distribution*\n",
    "In the second part of this week, we had to provide a cumulative distribution and compare it with the one we got in Week 3. In order to achieve this, the function *plot_cumulative_distribution* takes a dictionary of centrality values (in this context, PageRank values) and a title string as its arguments. \n",
    "\n",
    "### Understanding the cumulative distribution\n",
    "This function is designed to **visualize** how the **PageRank values are distributed** across all the nodes in the network. It sorts the centrality values in ascending order and then computes the cumulative distribution, which is a way to show the percentage of nodes that have a PageRank value less than or equal to a certain threshold, used to **understand the spread of centrality** across the nodes in the graph. This helps us understand what fraction of nodes have low importance versus high importance according to PageRank. A **plot** is created using matplotlib that **shows how many nodes have a PageRank value less than or equal to each value** on the x-axis.\n",
    "This type of plot is useful for **visualizing the distribution** of **PageRank values across the graph**, showing whether they are **concentrated among a few nodes** or more **evenly distributed**.\n",
    "\n",
    "\n",
    "Afterwards, we computed the PageRank using the function *calculate_pagerank* using the graph G as argument. The *plot_cumulative_distribution* function is called with the PageRank values and the title 'PageRank' to create and display the cumulative distribution plot.\n",
    "This algorithm allows us to **visualize and understand the importance of nodes within a network**, such as who are the **most influential or well-connected individuals** in a social network. The visualizations make it **easier to interpret the data** and can **provide insights** into the structure and dynamics of the network.\n",
    "\n",
    "### Insights gained\n",
    "It is no surprise to us that the **most important or infuential nodes** that are at the helm of the ship are **Rose and Jack**, the two leading character, with a value approximately equal. They are then followed by the **antagonist Cal**, with a value not far from theirs. Since they are the most important nodes, they are also the **ones highlighted by the cumulative distribution** function, showing us how **incredibly important these roles are** in Titanic's naval ecosystem, **creating important relationships** between them and with most of the other characters. \n"
   ]
  },
  {
   "cell_type": "markdown",
   "metadata": {},
   "source": [
    "### Custom PageRank Function "
   ]
  },
  {
   "cell_type": "code",
   "execution_count": null,
   "metadata": {},
   "outputs": [],
   "source": [
    "import networkx as nx\n",
    "import csv\n",
    "import matplotlib.pyplot as plt\n",
    "\n",
    "# Load the graph from CSV files\n",
    "def load_graph(nodes_file_path, edges_file_path):\n",
    "    G = nx.DiGraph()\n",
    "    with open(nodes_file_path, 'r') as file:\n",
    "        reader = csv.DictReader(file)\n",
    "        for row in reader:\n",
    "            G.add_node(row['Id'], label=row['Label'])\n",
    "\n",
    "    with open(edges_file_path, 'r') as file:\n",
    "        reader = csv.DictReader(file)\n",
    "        for row in reader:\n",
    "            G.add_edge(row['Source'], row['Target'], weight=1)\n",
    "            G.add_edge(row['Target'], row['Source'], weight=1)  # For undirected links\n",
    "\n",
    "    return G\n",
    "\n",
    "def calculate_pagerank(graph, damping_factor=0.15, num_iterations=100): #damping factor is the probability that the user will continue to click on links\n",
    "    num_nodes = len(graph.nodes())\n",
    "    pagerank = {node: 1 / num_nodes for node in graph.nodes()}  # Initialize PageRank equally for all nodes (1/N)\n",
    "    iteration_count = 0 #to keep track of the number of iterations\n",
    "\n",
    "    for _ in range(num_iterations):\n",
    "        iteration_count += 1\n",
    "        new_pagerank = {node: (1 - damping_factor) / num_nodes for node in graph.nodes()}  # (1-d)/N part\n",
    "        for node in graph.nodes():\n",
    "            for neighbor in graph.neighbors(node):\n",
    "                new_pagerank[neighbor] += damping_factor * pagerank[node] / len(list(graph.neighbors(node))) # d * (PR(i)/L(i)) part\n",
    "\n",
    "        # Check convergence\n",
    "        diff = sum([abs(new_pagerank[node] - pagerank[node]) for node in graph.nodes()]) #sum of the difference between the new and old pagerank\n",
    "        if diff < 1e-6: #if the difference is less than 1e-6, then it has converged\n",
    "            print(f'Converged after {iteration_count} iterations.')\n",
    "            break\n",
    "        \n",
    "        pagerank = new_pagerank\n",
    "\n",
    "    return pagerank, iteration_count\n",
    "\n",
    "if __name__ == \"__main__\": \n",
    "    nodes_file_path = '../Graph/nodes.csv'\n",
    "    edges_file_path = '../Graph/edges.csv'\n",
    "\n",
    "    # Load the graph\n",
    "    graph = load_graph(nodes_file_path, edges_file_path)\n",
    "\n",
    "    # Calculate PageRank\n",
    "    pagerank, iteration_count = calculate_pagerank(graph)\n",
    "\n",
    "    # Assign PageRank values to nodes and print\n",
    "    for node, rank in pagerank.items():\n",
    "        graph.nodes[node]['pagerank'] = rank\n",
    "    print(graph.nodes(data=True))\n",
    "    \n",
    "    \n",
    "    #The node with the highest pagerank\n",
    "    max_pagerank = max(pagerank, key=pagerank.get)\n",
    "    print(f'The node with the highest PageRank is {graph.nodes[max_pagerank][\"label\"]} with a PageRank of {pagerank[max_pagerank]}.')\n",
    "    \n",
    "    #Top 5 node with the highest pagerank \n",
    "    top_5_pagerank = sorted(pagerank, key=pagerank.get, reverse=True)[:5]\n",
    "    print(f'The top 5 nodes with the highest PageRank are:')\n",
    "    for node in top_5_pagerank:\n",
    "        print(f'{graph.nodes[node][\"label\"]} with a PageRank of {pagerank[node]}.')\n",
    "        \n",
    "    \n",
    "    \n",
    "\n"
   ]
  },
  {
   "cell_type": "markdown",
   "metadata": {},
   "source": [
    "### Plotting the two graphs"
   ]
  },
  {
   "cell_type": "code",
   "execution_count": null,
   "metadata": {},
   "outputs": [],
   "source": [
    "import matplotlib.pyplot as plt\n",
    "import numpy as np\n",
    "\n",
    "# Function to plot the cumulative distribution of closeness centrality\n",
    "def plot_cumulative_distribution(centrality_values, title):\n",
    "    sorted_values = np.sort(list(centrality_values.values()))\n",
    "    y_vals = np.arange(len(sorted_values)) / float(len(sorted_values))\n",
    "    plt.figure(figsize=(10, 6))\n",
    "    plt.plot(sorted_values, y_vals, marker='o')\n",
    "    plt.title(f'Cumulative Distribution of {title}')\n",
    "    plt.xlabel(title)\n",
    "    plt.ylabel('Cumulative Distribution')\n",
    "    plt.grid(True)\n",
    "    plt.show()\n",
    "\n",
    "# Load the graph\n",
    "G = load_graph('../Graph/nodes.csv','../Graph/edges.csv')\n",
    "\n",
    "# Compute pagerank\n",
    "pagerank, _ = calculate_pagerank(G)\n",
    "\n",
    "# Plot the cumulative distribution for PageRank\n",
    "plot_cumulative_distribution(pagerank, 'PageRank')\n",
    "\n",
    "# Custom plot to visualize the graph\n",
    "id_to_name = nx.get_node_attributes(G, 'label')\n",
    "plt.figure(figsize=(36, 36))\n",
    "pos = nx.spring_layout(G, seed=42)\n",
    "node_sizes = [pagerank[node] * 100000 for node in G.nodes()]\n",
    "edge_widths = [d['weight'] for _, _, d in G.edges(data=True)]\n",
    "nx.draw_networkx_nodes(G, pos, node_size=node_sizes, node_color='skyblue', alpha=0.7)\n",
    "nx.draw_networkx_edges(G, pos, width=edge_widths, alpha=0.7)\n",
    "labels = {node: id_to_name[node] for node in G.nodes()}\n",
    "nx.draw_networkx_labels(G, pos, labels=labels, font_size=15)\n",
    "top_5_nodes = list(sorted(pagerank.items(), key=lambda x: x[1], reverse=True)[:5])\n",
    "nx.draw_networkx_nodes(G, pos, nodelist=[node for node, _ in top_5_nodes], node_color='red', node_size=[pagerank[node] * 100000 for node, _ in top_5_nodes], alpha=0.7)\n",
    "plt.title(\"Titanic Social Network with Weighted Edges and Pagerank\")\n",
    "plt.axis(\"off\")\n",
    "plt.show()"
   ]
  },
  {
   "cell_type": "markdown",
   "metadata": {},
   "source": [
    "## Week 6: Community Detection in Networks\n",
    "## *Exploring and Analyzing Community Detection Methods*\n",
    "\n",
    "### Objective\n",
    "This week, we dive into *community detection techniques* in our graph, treating it as both *undirected* and *unweighted*. We will focus on implementing three distinct methods: **Bridge Removal**, **Modularity Optimization**, and **Label Propagation**. Our goal is to compare these methodologies in terms of *number of clusters*, *cluster sizes*, *computational efficiency*, and *modularity*, leading to an insightful discussion on their applicability and effectiveness.\n",
    "\n",
    "## *Community Detection Techniques*\n",
    "We begin by converting our graph to an undirected and unweighted form, concentrating on its *largest connected component*. We explore three community detection methods, each with its unique approach to deciphering the underlying community structures within the graph.\n",
    "\n",
    "### Bridge Removal (Girvan-Newman Algorithm)\n",
    "This technique progressively *removes* edges that act as *bridges* between communities. We utilize the **Girvan-Newman algorithm**, focusing on the partition with the *highest modularity*.\n",
    "\n",
    "### Modularity Optimization\n",
    "Here, we cluster nodes to *maximize* the network's *modularity* score. A *greedy algorithm* is employed for modularity optimization.\n",
    "\n",
    "### Label Propagation\n",
    "In this approach, nodes adopt the *majority label* of their neighbors, allowing communities to emerge organically through *label dissemination* across the network.\n",
    "\n",
    "### Implementing Community Detection Methods\n",
    "We implement these methods on our network graph. Each method's unique approach and results are examined, comparing their outcomes in terms of *cluster quantity*, *size distribution*, *computational time* and *modularity*.\n",
    "\n",
    "#### Results and Discussion\n",
    "- **Bridge Removal:** This method detected the *highest number of clusters*, indicating a *finer partitioning* of the network. However, it also had the *longest computational time*, suggesting it might be *less efficient* for larger networks. The *modularity* is *moderate*, which implies a reasonable but not optimal community structure.\n",
    "- **Modularity Optimization:** This method found a *smaller number of larger clusters*, with the *highest modularity* score among the three. This suggests that it was able to detect a community structure that aligns well with the network's inherent modular structure. It also offers a *good balance* between computational efficiency and the quality of community detection.\n",
    "- **Label Propagation:** Similar to Modularity Optimization in terms of the number of clusters, but it tends to produce *one significantly larger community*. It's the *fastest method* but has the *lowest modularity*, indicating a less precise community structure.\n",
    "\n",
    "**Table:** *Summary of Community Detection Methods*\n",
    "| Method                    | Clusters | Size Distribution  | Time (s) | Modularity |\n",
    "|---------------------------|----------|--------------------|----------|------------|\n",
    "| Bridge Removal            | 17       | Diverse            | 4.234    | 0.211      |\n",
    "| Modularity Optimization   | 5        | Balanced           | 0.112    | 0.329      |\n",
    "| Label Propagation         | 5        | One dominant cluster | 0.032  | 0.167      |\n",
    "\n",
    "### Conclusion and Visualization\n",
    "Reflecting on our findings, **Modularity Optimization** emerges as the *most balanced* approach, offering a blend of computational efficiency and effective community structuring. This method is chosen for visual representation using *Gephi*, showcasing the identified communities within our network graph."
   ]
  },
  {
   "cell_type": "markdown",
   "metadata": {},
   "source": [
    "### Community Detection Methods"
   ]
  },
  {
   "cell_type": "code",
   "execution_count": null,
   "metadata": {},
   "outputs": [],
   "source": [
    "# Function to convert partition to communities format\n",
    "def convert_partition_to_communities(partition):\n",
    "    communities = {}  # Dictionary to store the communities\n",
    "    for node, community in partition.items():  # Iterate over the nodes and their communities\n",
    "        if community not in communities:\n",
    "            communities[community] = set()  # Initialize a new set for the community\n",
    "        communities[community].add(node)  # Add the node to the community\n",
    "    return list(communities.values())\n",
    "\n",
    "# Bridge Removal using Girvan-Newman Algorithm\n",
    "def community_detection_bridge_removal(G):\n",
    "    communities_generator = community.girvan_newman(G)  # Run the Girvan-Newman algorithm\n",
    "    best_partition = None  # To store the best partition\n",
    "    best_modularity = -1  # To store the best modularity\n",
    "\n",
    "    for communities in communities_generator:\n",
    "        modularity = community.modularity(G, communities)  # Compute the modularity of the current partition\n",
    "        if modularity > best_modularity:\n",
    "            best_modularity = modularity\n",
    "            best_partition = communities\n",
    "\n",
    "    partition_dict = {node: i for i, comm in enumerate(best_partition) for node in comm}  # Convert the partition to a dictionary\n",
    "    return partition_dict, best_modularity\n",
    "\n",
    "# Modularity Optimization using Greedy Algorithm\n",
    "def community_detection_modularity_optimization(G):\n",
    "    communities = community.greedy_modularity_communities(G)  # Run the greedy modularity algorithm\n",
    "    partition = {node: i for i, comm in enumerate(communities) for node in comm}  \n",
    "    return partition\n",
    "\n",
    "# Label Propagation\n",
    "def community_detection_label_propagation(G):\n",
    "    communities = community.label_propagation_communities(G)  # Run the label propagation algorithm\n",
    "    partition = {node: i for i, comm in enumerate(communities) for node in comm}\n",
    "    return partition"
   ]
  },
  {
   "cell_type": "markdown",
   "metadata": {},
   "source": [
    "### Load, convert to undirected and unweighted and extract the largest connected component"
   ]
  },
  {
   "cell_type": "code",
   "execution_count": null,
   "metadata": {},
   "outputs": [],
   "source": [
    "# Load the graph from the provided CSV files\n",
    "nodes_file_path = '../Project/Graph/nodes.csv'\n",
    "edges_file_path = '../Project/Graph/edges.csv'\n",
    "G = load_graph(nodes_file_path, edges_file_path)\n",
    "\n",
    "# Convert the graph to undirected and remove self-loops\n",
    "G_undirected = G.to_undirected()\n",
    "G_undirected.remove_edges_from(nx.selfloop_edges(G_undirected))\n",
    "\n",
    "# Extract the largest connected component\n",
    "largest_cc = max(nx.connected_components(G_undirected), key=len)\n",
    "G_largest_cc = G_undirected.subgraph(largest_cc)"
   ]
  },
  {
   "cell_type": "markdown",
   "metadata": {},
   "source": [
    "### Comparison of Community Detection Techniques\n",
    "\n",
    "We will compare the results of the three community detection techniques based on:\n",
    "- Number of Detected Clusters\n",
    "- Cluster Size Distribution\n",
    "- Modularity\n",
    "- Computational Time (Using the time module)\n"
   ]
  },
  {
   "cell_type": "code",
   "execution_count": null,
   "metadata": {},
   "outputs": [],
   "source": [
    "# Use time to measure the execution time of the algorithms\n",
    "\n",
    "# Apply Bridge Removal Method \n",
    "start_time = time.time()  \n",
    "bridge_removal_partition, bridge_removal_modularity = community_detection_bridge_removal(G_largest_cc)  \n",
    "bridge_removal_time = time.time() - start_time\n",
    "\n",
    "# Apply Modularity Optimization Method\n",
    "start_time = time.time()\n",
    "modularity_optimization_partition = community_detection_modularity_optimization(G_largest_cc)\n",
    "modularity_optimization_time = time.time() - start_time\n",
    "modularity_optimization_communities = convert_partition_to_communities(modularity_optimization_partition)\n",
    "modularity_optimization_modularity = community.modularity(G_largest_cc, modularity_optimization_communities)\n",
    "\n",
    "# Apply Label Propagation Method\n",
    "start_time = time.time()\n",
    "label_propagation_partition = community_detection_label_propagation(G_largest_cc)\n",
    "label_propagation_time = time.time() - start_time\n",
    "label_propagation_communities = convert_partition_to_communities(label_propagation_partition)\n",
    "label_propagation_modularity = community.modularity(G_largest_cc, label_propagation_communities)"
   ]
  },
  {
   "cell_type": "code",
   "execution_count": null,
   "metadata": {},
   "outputs": [
    {
     "name": "stdout",
     "output_type": "stream",
     "text": [
      "Bridge Removal Method:\n",
      "Time taken:  2.411370038986206\n",
      "Modularity:  0.210517779443183\n",
      "Partition:  {'5100274': 0, '5098583': 0, '5097941': 0, '5102924': 0, '5097316': 0, '5102690': 0, '5102237': 0, '5098606': 0, '5099110': 0, '5102939': 0, '5097915': 0, '5100235': 0, '5102317': 0, '5100134': 0, '5101061': 0, '5099090': 0, '5099903': 0, '5103789': 0, '5098545': 0, '5098717': 0, '5097875': 0, '5106033': 0, '5098463': 0, '5098095': 0, '5098619': 0, '5099096': 0, '5104295': 0, '5097979': 0, '5097994': 0, '5100333': 0, '5098041': 0, '5099267': 0, '5100327': 0, '5102267': 0, '5097894': 0, '5096932': 1, '5099349': 1, '5096948': 1, '5097161': 1, '5097296': 1, '5097262': 1, '5097320': 1, '5097212': 1, '5097505': 1, '5096969': 1, '5098128': 2, '5098193': 2, '5098082': 2, '5098088': 2, '5098242': 3, '5101840': 3, '5101998': 3, '5101981': 3, '5102009': 3, '5101285': 3, '5101750': 4, '5101041': 4, '5098541': 5, '5098267': 6, '5103242': 7, '5103072': 8, '5102841': 9, '5105174': 10, '5105151': 10, '5099499': 11, '5105104': 12, '5102992': 13, '5103330': 14, '5102617': 15, '5098417': 16}\n",
      "\n",
      "\n",
      "Modularity Optimization Method:\n",
      "Time taken:  0.02585911750793457\n",
      "Modularity:  0.32898401583874903\n",
      "Partition:  {'5105174': 0, '5098193': 0, '5098545': 0, '5098583': 0, '5098088': 0, '5098082': 0, '5098541': 0, '5101041': 0, '5105151': 0, '5098095': 0, '5098128': 0, '5101750': 0, '5102317': 0, '5104295': 0, '5101061': 0, '5103072': 0, '5099499': 0, '5102267': 0, '5097875': 1, '5102690': 1, '5097941': 1, '5102924': 1, '5102237': 1, '5098463': 1, '5102939': 1, '5097915': 1, '5102992': 1, '5100134': 1, '5099096': 1, '5097979': 1, '5097994': 1, '5102841': 1, '5099903': 1, '5103789': 1, '5097894': 1, '5098417': 2, '5103330': 2, '5097161': 2, '5097296': 2, '5097316': 2, '5106033': 2, '5097262': 2, '5097212': 2, '5097505': 2, '5096969': 2, '5105104': 2, '5096932': 2, '5099349': 2, '5096948': 2, '5098041': 2, '5099267': 2, '5097320': 2, '5100235': 3, '5100274': 3, '5098619': 3, '5099110': 3, '5100333': 3, '5099090': 3, '5098606': 3, '5100327': 3, '5102617': 3, '5103242': 3, '5098242': 4, '5101840': 4, '5098717': 4, '5101998': 4, '5101981': 4, '5102009': 4, '5101285': 4, '5098267': 4}\n",
      "\n",
      "\n",
      "Label Propagation Method:\n",
      "Time taken:  0.01616501808166504\n",
      "Modularity:  0.16695562689455373\n",
      "Partition:  {'5098417': 0, '5100274': 0, '5098583': 0, '5098541': 0, '5101041': 0, '5097941': 0, '5102690': 0, '5097316': 0, '5102924': 0, '5102237': 0, '5098606': 0, '5099110': 0, '5103242': 0, '5102617': 0, '5102939': 0, '5097915': 0, '5100235': 0, '5105104': 0, '5102992': 0, '5100134': 0, '5102317': 0, '5101981': 0, '5102841': 0, '5101061': 0, '5099090': 0, '5103072': 0, '5099499': 0, '5099903': 0, '5103789': 0, '5103330': 0, '5098545': 0, '5098717': 0, '5097875': 0, '5097296': 0, '5106033': 0, '5098463': 0, '5098267': 0, '5098095': 0, '5098128': 0, '5101750': 0, '5098619': 0, '5099096': 0, '5099267': 0, '5097979': 0, '5104295': 0, '5097994': 0, '5100333': 0, '5098041': 0, '5097320': 0, '5100327': 0, '5102267': 0, '5097894': 0, '5096932': 1, '5099349': 1, '5096948': 1, '5097161': 1, '5097262': 1, '5097212': 1, '5097505': 1, '5096969': 1, '5098242': 2, '5101840': 2, '5101998': 2, '5102009': 2, '5101285': 2, '5105174': 3, '5105151': 3, '5098193': 4, '5098082': 4, '5098088': 4}\n"
     ]
    }
   ],
   "source": [
    "# Print the results of the Bridge Removal Method\n",
    "print(\"Bridge Removal Method:\")\n",
    "print(\"Time taken: \", bridge_removal_time)\n",
    "print(\"Modularity: \", bridge_removal_modularity)\n",
    "print(\"Partition: \", bridge_removal_partition)\n",
    "print(\"\\n\")\n",
    "\n",
    "# Print the results of the Modularity Optimization Method\n",
    "print(\"Modularity Optimization Method:\")\n",
    "print(\"Time taken: \", modularity_optimization_time)\n",
    "print(\"Modularity: \", modularity_optimization_modularity)\n",
    "print(\"Partition: \", modularity_optimization_partition)\n",
    "print(\"\\n\")\n",
    "\n",
    "# Print the results of the Label Propagation Method\n",
    "print(\"Label Propagation Method:\")\n",
    "print(\"Time taken: \", label_propagation_time)\n",
    "print(\"Modularity: \", label_propagation_modularity)\n",
    "print(\"Partition: \", label_propagation_partition)"
   ]
  },
  {
   "cell_type": "markdown",
   "metadata": {},
   "source": [
    "#### Gephi Visualization"
   ]
  },
  {
   "cell_type": "code",
   "execution_count": null,
   "metadata": {},
   "outputs": [],
   "source": [
    "# Add community information to the graph\n",
    "nx.set_node_attributes(G_largest_cc, modularity_optimization_partition, 'Community_mod')\n",
    "\n",
    "# Export the graph to a GEXF file for Gephi\n",
    "nx.write_gexf(G_largest_cc, \"../G_largest_cc.gexf\")\n",
    "\n",
    "# Use the .gexf file to visualize the graph in Gephi\n",
    "# Apply Force Atlas 2 layout algorithm\n",
    "# Export as image and save for notebook visualization"
   ]
  },
  {
   "cell_type": "markdown",
   "metadata": {},
   "source": [
    "## Week 7: Link prediction\n",
    "## *Common neighbours and topological indices*\n",
    "\n",
    "### Objective\n",
    "This week objective is to compute different **topological similarity indices**, returning a frame where each row is a *missing link* and each column is an *index*.\\\n",
    "Once the similarity indices are computed, we have to *synthesize* them properly to obtain the **link likelihood scores**.\\\n",
    "We have to calculate a score using an *aggregation function* - the **arithmetic mean** - between the two indices, as another parameter of evaluation.\\\n",
    "This value obtained will be added to the Pandas dataframe in a third column, then used to *rank* the missing links - the node pairs yielding the largest 5 values - for each of the three scores, in order to *predict* the most likely ones with the **top 5** ones.\n",
    "\n",
    "## *Transforming the graph: undirected and unweighted without self loops*\n",
    "Inside the `load_graph()` function we loaded both nodes and edges, and we used the function `to_undirected()` to convert the directed graph $G$ to an *undirected graph* $U$.\\\n",
    "Then, we used the function `remove_edges_from()` which removes *self-loops* (connecting a node to itself) from the undirected graph $U$.\\\n",
    "Moeover, we have analyzed the **Largest Connected Component** $LCC$: after finding it we created a **subgraph** containing *only the nodes* in the largest connected *component*, printing them; this can be critical to understand the *cohesion or segmentation* of the network.\n",
    "\n",
    "## *Calculating the topological indices*\n",
    "We start by creating an *empty undirected graph* called $G$, loading then all edges and nodes.\\\n",
    "We subsequently computed two network *topological indices*, **Common Neighbors** $CN$ and **Preferential Attachment** $PA$, for *all non-existing edges* (potential future links) in a the graph.\\\n",
    "Getting into detail... After identifying *non-edges*, meaning all pairs of nodes in the graph that are not connected by an edge, we have obtained $CN$ calculating the *number of common neighbors* they share for each *pair of non-connected nodes*. This is a measure of how many mutual connections two nodes have, which can be extremely important to indicate the **likelihood** of them forming a possible **connection in the future**.\\\n",
    "Afterwards, we calculated $PA$: for each *pair of non-connected nodes*, we obtained the *product* of their *degrees* (meaning the number of connections they have). This index is based on the idea that nodes with *higher degrees* are **more likely to form new connections**.\\\n",
    "Fianlly, we created the *DataFrame* in order to **organize the CN and PA values** for easier analysis and visualization.\n",
    "\n",
    "### Insights and Interpretations\n",
    "- **Focusing on LCC**: Analyzing the largest connected component can be particularly insightful, as it represents the *most interconnected part* of the network, often containing *crucial information* about the network's structure.\n",
    "\n",
    "- **Common Neighbors (CN)**: High CN values suggest that two nodes are part of *tightly-knit communities*, increasing the *likelihood of a future link*.\n",
    "\n",
    "- **Preferential Attachment (PA)**: This concept suggests that nodes with *many connections* are *more likely to acquire even more* connections.\n",
    "\n",
    "## *Computing the likelihood score: arithmetic mean*\n",
    "The `rescale()` function has the purpose to *rescale* a Pandas series to a *range [0,1]*, while the `min()` and `max()` functions help us identify those values in the series and return the **rescaled series** where each value is transformed to fall within the range. This is done by *subtracting the minimum value* from each element and *dividing by the range (max - min)*.\\\n",
    "After that, our goal is to add a *new column* with the *mean* for each index. We applied `rescale()` to the $CN$ and $PA$ columns in the DataFrame, creating two new columns: $CN\\_scaled$ and $PA\\_scaled$.\\\n",
    "Finally, the **mean of the scaled values** for each row is calculated and added as a *new column* $Mean\\_CN\\_PA$ in the DataFrame.\\\n",
    "Now we apply `compute_CN_PA()` and `add_mean_column()` to the graph, particularly extracting the largest connected component $LCC$. \n",
    "\n",
    "### Insights and Interpretations\n",
    "- **Rescaling**: Rescaling the $CN$ and $PA$ values to a 0-1 range *normalizes these metrics*, making them *directly comparable* regardless of their original scales or distributions. This is particularly useful when these metrics vary widely in scale or when combining them.\n",
    "\n",
    "- **Mean of Scaled Values**: Computing the mean of $CN\\_scaled$ and $PA\\_scaled$ provides a single metric that *balances the influence* of both CN and PA. This can be useful for *analyzing potential connections* in the network by considering both the likelihood of connection (suggested by $CN$) and the network influence (indicated by $PA$).\n",
    "\n",
    "## *Finding top missing links*\n",
    "We initialized `find_top_missing_links()` which aim is to find the *top 5 pairs of nodes* (potential missing links) in a DataFrame based on specified indices.\\\n",
    "First of all, we store the *missing links* for each index in a dictionary, by iterating over the provided *list of indices*. We then select the *top 5 links* after sorting in *descending order* based on the current index: this implies that the function is looking for the *highest scores in each index*.\\\n",
    "It *extracts* the node pairs from the $Node1$ and $Node2$ columns of the sorted DataFrame and stores them in the dictionary *under the corresponding index*.\n",
    "We call the function, providing it with the list of indices (e.g., $CN$, $PA$, $Mean\\_CN\\_PA$), so to identify the **top 5 potential missing links** in the network based on each index.\n",
    "\n",
    "### Insights and Interpretations\n",
    "- **Network Link Prediction**: The function is designed for link prediction in networks, a key task in network analysis. It identifies pairs of nodes that, based on certain metrics, are *most likely to form a link*.\n",
    "\n",
    "- **Multiple Metrics for Prediction**: By using different indices ($CN$, $PA$, $Mean\\_CN\\_PA$), the function offers a multifaceted view of *potential connections*. Each index provides a different perspective:\n",
    "    - **$CN$ (Common Neighbors)**: Suggests that nodes with *many mutual connections* are more likely to connect.\n",
    "    - **$PA$ (Preferential Attachment)**: Implies that nodes with *high degrees* (many connections) are more likely to form new connections.\n",
    "    - **$Mean\\_CN\\_PA$**: A *balanced metric* combining both CN and PA perspectives.\n",
    "\n",
    "In summary, the `find_top_missing_links()` function is a tool for identifying potential areas of *growth or evolution* within a network by highlighting the node pairs most likely to connect according to different network metrics."
   ]
  },
  {
   "cell_type": "markdown",
   "metadata": {},
   "source": [
    "### Imports and transforming the graph"
   ]
  },
  {
   "cell_type": "code",
   "execution_count": null,
   "metadata": {},
   "outputs": [
    {
     "name": "stdout",
     "output_type": "stream",
     "text": [
      "The number of \u001b[1mnodes\u001b[0m in the LCC is: \u001b[1m70\u001b[0m\n",
      "The number of \u001b[1medges\u001b[0m in the LCC is: \u001b[1m299\u001b[0m\n"
     ]
    }
   ],
   "source": [
    "import networkx as nx\n",
    "import csv\n",
    "import matplotlib.pyplot as plt\n",
    "import numpy as np\n",
    "import pandas as pd\n",
    "\n",
    "def load_graph(nodes_file_path='../Project/Graph/nodes.csv', edges_file_path='../Project/Graph/edges.csv'):\n",
    "    G = nx.DiGraph()  # Create a directed graph\n",
    "    with open(nodes_file_path, 'r') as file:\n",
    "        reader = csv.DictReader(file)\n",
    "        for row in reader:\n",
    "            G.add_node(row['Id'], label=row['Label'])  # Add nodes to the graph with the label\n",
    "\n",
    "    with open(edges_file_path, 'r') as file:\n",
    "        reader = csv.DictReader(file)\n",
    "        for row in reader:\n",
    "            G.add_edge(row['Source'], row['Target'], weight=1)  # Add edges to the graph with same weight = 1 (unweighted)\n",
    "\n",
    "    U = G.to_undirected()  # Transform the graph into an undirected\n",
    "    U.remove_edges_from(nx.selfloop_edges(U))  # Remove self loops\n",
    "    \n",
    "    # Check the size of the largest connected component\n",
    "    LCCNodes = list(max(nx.connected_components(U), key=len)) # Get the nodes of the largest connected component\n",
    "    LCC = U.subgraph(LCCNodes)  # Create the largest connected component as a subgraph of the original graph\n",
    "    \n",
    "    print(f\"The number of \\033[1mnodes\\033[0m in the LCC is: \\033[1m{LCC.number_of_nodes()}\\033[0m\")\n",
    "    print(f\"The number of \\033[1medges\\033[0m in the LCC is: \\033[1m{LCC.number_of_edges()}\\033[0m\")\n",
    "\n",
    "    return\n",
    "\n",
    "load_graph()"
   ]
  },
  {
   "cell_type": "markdown",
   "metadata": {},
   "source": [
    "### Computing the topological indices"
   ]
  },
  {
   "cell_type": "code",
   "execution_count": null,
   "metadata": {},
   "outputs": [
    {
     "name": "stdout",
     "output_type": "stream",
     "text": [
      "           Node1       Node2  CN   PA\n",
      "0         MOTHER   MADELEINE   1   14\n",
      "1         MOTHER        BELL   0   12\n",
      "2         MOTHER       BRIDE   0    8\n",
      "3         MOTHER  STEWARD #2   1   12\n",
      "4         MOTHER     HARTLEY   0    8\n",
      "...          ...         ...  ..  ...\n",
      "2111    REPORTER  GUGGENHEIM   1   30\n",
      "2112    REPORTER  HUTCHINSON   1   15\n",
      "2113    REPORTER        RUTH   1   75\n",
      "2114  GUGGENHEIM  HUTCHINSON   3   50\n",
      "2115  HUTCHINSON        RUTH   4  125\n",
      "\n",
      "[2116 rows x 4 columns]\n"
     ]
    }
   ],
   "source": [
    "def load_graph(nodes_file_path='../Project/Graph/nodes.csv', edges_file_path='../Project/Graph/edges.csv'):\n",
    "    G = nx.Graph()  # Create empty undirected graph\n",
    "    \n",
    "    with open(nodes_file_path, 'r') as file:\n",
    "        reader = csv.DictReader(file)\n",
    "        for row in reader:\n",
    "            G.add_node(row['Id'], label=row['Label'])  # Add nodes to the graph with the label\n",
    "\n",
    "    with open(edges_file_path, 'r') as file:\n",
    "        reader = csv.DictReader(file)\n",
    "        for row in reader:\n",
    "            G.add_edge(row['Source'], row['Target'])  # Add edges to the graph\n",
    "    \n",
    "    return G\n",
    "\n",
    "\n",
    "def compute_CN_PA(graph):\n",
    "    # Get all non-edges from the graph (potential future links)\n",
    "    non_edges = list(nx.non_edges(graph))\n",
    "    \n",
    "    # Calculate Common Neighbors (CN) for each non-edge\n",
    "    CN = [(graph.nodes[u]['label'], graph.nodes[v]['label'], len(list(nx.common_neighbors(graph, u, v)))) for u, v in non_edges]\n",
    "    # Number of common neighbors u and v share for each pair of non-connected nodes\n",
    "    \n",
    "    # Calculate Preferential Attachment (PA) for each non-edge\n",
    "    PA = [(graph.nodes[u]['label'], graph.nodes[v]['label'], graph.degree(u) * graph.degree(v)) for u, v in non_edges]\n",
    "    # Product of the degrees of u and v - so number of connections they have - for each pair of non-connected nodes\n",
    "    \n",
    "    # Convert the results to a dataframe\n",
    "    df = pd.DataFrame({\n",
    "        'Node1': [u for u, v, _ in CN],  # Get the first node from the CN list\n",
    "        'Node2': [v for u, v, _ in CN],  # Get the second node from the CN list\n",
    "        'CN': [index for _, _, index in CN],  # Get the number of common neighbors from the CN list\n",
    "        'PA': [index for _, _, index in PA]  # Get the number of neighbors from the PA list\n",
    "    })\n",
    "\n",
    "    return df\n",
    "\n",
    "graph = load_graph()\n",
    "lcc_nodes = max(nx.connected_components(graph), key=len)  # Get the nodes of the largest connected component\n",
    "lcc = graph.subgraph(lcc_nodes)  # Create the largest connected component as a subgraph of the original graph\n",
    "\n",
    "# Compute metrics on the LCC\n",
    "df = compute_CN_PA(lcc)  # Create the dataframe with the results\n",
    "print(df)"
   ]
  },
  {
   "cell_type": "markdown",
   "metadata": {},
   "source": [
    "### Rescaling and computing the likelihood score - mean"
   ]
  },
  {
   "cell_type": "code",
   "execution_count": null,
   "metadata": {},
   "outputs": [
    {
     "name": "stdout",
     "output_type": "stream",
     "text": [
      "           Node1       Node2  CN   PA  CN_scaled  PA_scaled  Mean_CN_PA\n",
      "0         MOTHER   MADELEINE   1   14        0.1   0.023593    0.061797\n",
      "1         MOTHER        BELL   0   12        0.0   0.019964    0.009982\n",
      "2         MOTHER       BRIDE   0    8        0.0   0.012704    0.006352\n",
      "3         MOTHER  STEWARD #2   1   12        0.1   0.019964    0.059982\n",
      "4         MOTHER     HARTLEY   0    8        0.0   0.012704    0.006352\n",
      "...          ...         ...  ..  ...        ...        ...         ...\n",
      "2111    REPORTER  GUGGENHEIM   1   30        0.1   0.052632    0.076316\n",
      "2112    REPORTER  HUTCHINSON   1   15        0.1   0.025408    0.062704\n",
      "2113    REPORTER        RUTH   1   75        0.1   0.134301    0.117151\n",
      "2114  GUGGENHEIM  HUTCHINSON   3   50        0.3   0.088929    0.194465\n",
      "2115  HUTCHINSON        RUTH   4  125        0.4   0.225045    0.312523\n",
      "\n",
      "[2116 rows x 7 columns]\n"
     ]
    }
   ],
   "source": [
    "def rescale(series):\n",
    "    min_val = series.min()  # Get the minimum value of the series\n",
    "    max_val = series.max()  # Get the maximum value of the series\n",
    "    return (series - min_val) / (max_val - min_val)  # Rescale the series, subtracting the minimum and dividing by the difference between the maximum and minimum\n",
    "\n",
    "def add_mean_column(df):\n",
    "    # First, we rescale the 'CN' and 'PA' columns\n",
    "    df['CN_scaled'] = rescale(df['CN'])\n",
    "    df['PA_scaled'] = rescale(df['PA'])\n",
    "\n",
    "    # Then, we compute the arithmetic mean of the scaled values\n",
    "    df['Mean_CN_PA'] = df[['CN_scaled', 'PA_scaled']].mean(axis=1)\n",
    "    return df\n",
    "\n",
    "# Load the graph and extract the LCC\n",
    "graph = load_graph()\n",
    "lcc_nodes = max(nx.connected_components(graph), key=len)\n",
    "lcc = graph.subgraph(lcc_nodes)\n",
    "\n",
    "# Compute CN and PA on the LCC\n",
    "df = compute_CN_PA(lcc)\n",
    "\n",
    "# Add the mean column to the DataFrame\n",
    "df = add_mean_column(df)\n",
    "print(df)"
   ]
  },
  {
   "cell_type": "markdown",
   "metadata": {},
   "source": [
    "### Finding the top 5 missing links"
   ]
  },
  {
   "cell_type": "code",
   "execution_count": null,
   "metadata": {},
   "outputs": [
    {
     "name": "stdout",
     "output_type": "stream",
     "text": [
      "The top 5 missing links for the CN index are:\n",
      "\u001b[1mLOVEJOY - MOLLY\u001b[0m\n",
      "\u001b[1mMURDOCH - JACK\u001b[0m\n",
      "\u001b[1mWOMAN - RUTH\u001b[0m\n",
      "\u001b[1mISMAY - LIGHTOLLER\u001b[0m\n",
      "\u001b[1mROSE - MURDOCH\u001b[0m\n",
      "\n",
      "The top 5 missing links for the PA index are:\n",
      "\u001b[1mROSE - MURDOCH\u001b[0m\n",
      "\u001b[1mSMITH - CAL\u001b[0m\n",
      "\u001b[1mMURDOCH - JACK\u001b[0m\n",
      "\u001b[1mLOVEJOY - MOLLY\u001b[0m\n",
      "\u001b[1mLOVETT - JACK\u001b[0m\n",
      "\n",
      "The top 5 missing links for the Mean_CN_PA index are:\n",
      "\u001b[1mROSE - MURDOCH\u001b[0m\n",
      "\u001b[1mMURDOCH - JACK\u001b[0m\n",
      "\u001b[1mSMITH - CAL\u001b[0m\n",
      "\u001b[1mLOVEJOY - MOLLY\u001b[0m\n",
      "\u001b[1mWOMAN - RUTH\u001b[0m\n",
      "\n"
     ]
    }
   ],
   "source": [
    "def find_top_missing_links(df, indices):\n",
    "    predicted_missing_links = {}  # Create an empty dictionary to store the results\n",
    "    for index in indices:\n",
    "        # Sort the DataFrame based on the index in descending order to get the top scores\n",
    "        sorted_df = df.sort_values(by=index, ascending=False).head(5)\n",
    "        # Extract the Node1 and Node2 columns to get the pairs\n",
    "        predicted_missing_links[index] = sorted_df[['Node1', 'Node2']].values.tolist()\n",
    "    return predicted_missing_links\n",
    "\n",
    "# Ensure that the indices are in a list for iteration\n",
    "indices = ['CN', 'PA', 'Mean_CN_PA']\n",
    "\n",
    "# Identify the top missing links for each index\n",
    "top_missing_links = find_top_missing_links(df, indices)\n",
    "\n",
    "# Display the results\n",
    "for index, links in top_missing_links.items():\n",
    "    print(f\"The top 5 missing links for the {index} index are:\")\n",
    "    for link in links:\n",
    "        print(f\"\\033[1m{link[0]} - {link[1]}\\033[0m\")\n",
    "    print('')"
   ]
  },
  {
   "cell_type": "markdown",
   "metadata": {},
   "source": [
    "## *Final Analysis*\n",
    "\n",
    "In conclusion, the `find_top_missing_links` function has effectively highlighted the most probable areas for the introduction or reinforcement of connections within the network. The top missing links, identified by the indices CN, PA, and Mean_CN_PA, suggest that nodes like 'LOVEJOY - MOLLY' and 'ROSE - MURDOCH' are prime candidates for establishing new links due to their underlying attributes reflected by these metrics.\n",
    "\n",
    "The Common Neighbors (CN) index points towards nodes with mutual acquaintances, positing that a link between them would be naturally conducive to the network's cohesion. Similarly, the Preferential Attachment (PA) index indicates that nodes with high degrees, such as 'ISMAY - LIGHTOLLER', are more likely to form new links due to their already significant connectivity, potentially leading to a rich-get-richer phenomenon.\n",
    "\n",
    "The Mean_CN_PA, as a hybrid metric, balances the insights from both CN and PA, offering a nuanced view that encompasses both the likelihood of connection through mutual contacts and the advantage of high connectivity. For instance, the repetition of the pair 'LOVEJOY - MOLLY' across different indices underscores its critical potential as a missing link that would benefit the network.\n",
    "\n",
    "Therefore, this analysis suggests a strategic focus on these identified pairs can foster network growth and evolution. This means that by understanding the reasons behind these potential connections, one can make informed decisions to enhance the network in a way that is both efficient and structurally sound!"
   ]
  }
 ],
 "metadata": {
  "language_info": {
   "name": "python"
  }
 },
 "nbformat": 4,
 "nbformat_minor": 2
}
