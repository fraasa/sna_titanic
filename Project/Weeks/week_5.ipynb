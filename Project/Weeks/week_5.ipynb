{
 "cells": [
  {
   "cell_type": "markdown",
   "metadata": {},
   "source": [
    "# Week 5\n"
   ]
  },
  {
   "cell_type": "markdown",
   "metadata": {},
   "source": [
    "Instructions (da cancellare) \n",
    "1) Write a function to compute the PageRank of the nodes in a graph (you are not allowed to use built-in functions from NetworkX).\n",
    "2) Run it on your graph using = 0.15, save the total number of iterations, and check that your function returns the same results (in terms of the scores) as the built-in function from NetworkX.\n",
    "3) Identify the node with the highest PageRank, compare it with the one you got from week 3, and give an interpretation to the possible difference.\n",
    "4) Provide the cumulative distribution, compare it with the one you got from week 3, and comment the results.\n",
    "5) Optional: Re-run the PageRank using = 0.5, save the total number of iterations, compare with the results (in terms of both the number of iterations and the cumulative distribution) obtained for = 0.15, and comment.\n",
    "Hint: treat weighted graphs as unweighted & links in undirected graphs as doubly directed (each undirected link becomes a directed link in both directions). Additionally, make sure you run the PageRank algorithm on a connected graph.\n"
   ]
  },
  {
   "cell_type": "code",
   "execution_count": 12,
   "metadata": {},
   "outputs": [
    {
     "name": "stdout",
     "output_type": "stream",
     "text": [
      "[('5097316', {'label': 'ROSE', 'pagerank': 0.012142857142857143}), ('5098095', {'label': 'JACK', 'pagerank': 0.012182453416149068}), ('5097875', {'label': 'CAL', 'pagerank': 0.01223054204805492}), ('5098619', {'label': 'MOLLY', 'pagerank': 0.012289722090222928}), ('5098545', {'label': 'SMITH', 'pagerank': 0.012322714963731591}), ('5101061', {'label': 'LIGHTOLLER', 'pagerank': 0.012535928942946244}), ('5096969', {'label': 'LOVETT', 'pagerank': 0.012182453416149068}), ('5097941', {'label': 'LOVEJOY', 'pagerank': 0.01243436742418}), ('5098606', {'label': 'ANDREWS', 'pagerank': 0.012804917951145117}), ('5097894', {'label': 'RUTH', 'pagerank': 0.012996991720412293}), ('5098041', {'label': 'OLD ROSE', 'pagerank': 0.012803654820093156}), ('5096948', {'label': 'BODINE', 'pagerank': 0.012605258745268052}), ('5098128', {'label': 'FABRIZIO', 'pagerank': 0.012443756027269572}), ('5098463', {'label': 'WOMAN', 'pagerank': 0.012990853395565723}), ('5098583', {'label': 'ISMAY', 'pagerank': 0.013076002476434246}), ('5101981', {'label': 'MURDOCH', 'pagerank': 0.013009836527690586}), ('5100134', {'label': 'STEWARD', 'pagerank': 0.01291847070504122}), ('5097212', {'label': 'BUELL', 'pagerank': 0.012743347979749346}), ('5101285', {'label': 'FLEET', 'pagerank': 0.012647960876923856}), ('5101840', {'label': 'LEE', 'pagerank': 0.0131222594098085}), ('5100235', {'label': 'SIR COSMO', 'pagerank': 0.012496574344609119}), ('5098242', {'label': 'MOODY', 'pagerank': 0.013738776107007}), ('5102690', {'label': 'STEWARD #2', 'pagerank': 0.013459915337393331}), ('5099090', {'label': 'GRACIE', 'pagerank': 0.013682995551781695}), ('5098717', {'label': 'TOMMY', 'pagerank': 0.014199856968025538}), ('5097994', {'label': 'MAN', 'pagerank': 0.013303184566875037}), ('5101041', {'label': 'BRIDE', 'pagerank': 0.01244153641386086}), ('5098541', {'label': 'FIRST OFFICER MURDOCH', 'pagerank': 0.01385314711684487}), ('5098267', {'label': 'ROWE', 'pagerank': 0.01291748085340527}), ('5099110', {'label': 'COLONEL GRACIE', 'pagerank': 0.013400241723345781}), ('5103242', {'label': 'HITCHINS', 'pagerank': 0.013013892712810915}), ('5097505', {'label': 'LIZZY', 'pagerank': 0.013620583906613559}), ('5099096', {'label': 'MASTER AT ARMS', 'pagerank': 0.01354083207813608}), ('5102237', {'label': 'STEWARD BARNES', 'pagerank': 0.01520579345014672}), ('5102267', {'label': 'HUTCHINSON', 'pagerank': 0.012629751031534707}), ('5103072', {'label': 'LOWE', 'pagerank': 0.012572273796539283}), ('5096932', {'label': 'ANATOLY', 'pagerank': 0.01270375170645742}), ('5097262', {'label': 'ANNOUNCER', 'pagerank': 0.012962761343086847}), ('5102009', {'label': 'BARRETT', 'pagerank': 0.014377626280451498}), ('5101998', {'label': 'BELL', 'pagerank': 0.016534270222519222}), ('5099349', {'label': 'BROCK', 'pagerank': 0.015423602964728847}), ('5097161', {'label': 'CAMERAMAN', 'pagerank': 0.01270375170645742}), ('5097296', {'label': 'CNN REPORTER', 'pagerank': 0.012365190217391304}), ('5102841', {'label': 'CREWMAN', 'pagerank': 0.012267200817098943}), ('5097979', {'label': 'DANIEL', 'pagerank': 0.013385884227488895}), ('5105151', {'label': 'FATHER BYLES', 'pagerank': 0.012190945774762995}), ('5102317', {'label': 'GENTLEMAN', 'pagerank': 0.01427903863983177}), ('5100327', {'label': 'GUGGENHEIM', 'pagerank': 0.013945910135271269}), ('5102924', {'label': 'HARTLEY', 'pagerank': 0.012461361857691743}), ('5099499', {'label': 'HELGA', 'pagerank': 0.012463862473566224}), ('5104295', {'label': 'HUSBAND', 'pagerank': 0.01309952665252375}), ('5103789', {'label': 'IDA', 'pagerank': 0.01305282556435817}), ('5106033', {'label': 'IMMIGRATION OFFICER', 'pagerank': 0.012481701986193822}), ('5105104', {'label': 'JOUGHIN', 'pagerank': 0.01223054204805492}), ('5102992', {'label': 'LITTLE BOY', 'pagerank': 0.014187999930280675}), ('5100274', {'label': 'MADELEINE', 'pagerank': 0.013463477950634118}), ('5099903', {'label': 'MARVIN', 'pagerank': 0.012641219678566191}), ('5105174', {'label': 'MOTHER', 'pagerank': 0.014019587640977443}), ('5098082', {'label': 'OLAF', 'pagerank': 0.012424266200274299}), ('5103330', {'label': 'OPERATOR', 'pagerank': 0.012182453416149068}), ('5101750', {'label': 'PHILLIPS', 'pagerank': 0.013230006310943352}), ('5097915', {'label': 'PORTER', 'pagerank': 0.01539376686161223}), ('5098193', {'label': 'PUBKEEPER', 'pagerank': 0.013356086165294871}), ('5097320', {'label': 'REPORTER', 'pagerank': 0.014219968749999999}), ('5102617', {'label': 'SEAMAN', 'pagerank': 0.01233493091212432}), ('5098088', {'label': 'SVEN', 'pagerank': 0.015359499090089102}), ('5099267', {'label': 'TRANSITION', 'pagerank': 0.012481701986193822}), ('5098417', {'label': 'TRUDY', 'pagerank': 0.012241633458317075}), ('5100333', {'label': 'WAITER', 'pagerank': 0.01603779665556196}), ('5102939', {'label': 'WOMAN IN CROWD', 'pagerank': 0.014330566136345504})]\n"
     ]
    }
   ],
   "source": [
    "import networkx as nx\n",
    "import csv\n",
    "#OUTPUT should be a DICTIONARY--> key: node, value: pagerank\n",
    "\n",
    "\n",
    "# Load the graph from CSV files\n",
    "def load_graph(nodes_file_path, edges_file_path):\n",
    "    G = nx.Graph()\n",
    "    with open(nodes_file_path, 'r') as file:\n",
    "        reader = csv.DictReader(file)\n",
    "        for row in reader:\n",
    "            G.add_node(row['Id'], label=row['Label'])\n",
    "\n",
    "    with open(edges_file_path, 'r') as file:\n",
    "        reader = csv.DictReader(file)\n",
    "        for row in reader:\n",
    "            G.add_edge(row['Source'], row['Target'], weight=int(row['Weight']))\n",
    "    return G\n",
    "\n",
    "def adjacency_matrix_from_graph(graph):\n",
    "    num_nodes = len(graph.nodes())\n",
    "    adjacency_matrix = [[0] * num_nodes for _ in range(num_nodes)]\n",
    "\n",
    "    for source, target in graph.edges():\n",
    "        source_index = list(graph.nodes()).index(source)\n",
    "        target_index = list(graph.nodes()).index(target)\n",
    "        adjacency_matrix[source_index][target_index] = 1\n",
    "\n",
    "    return adjacency_matrix\n",
    "\n",
    "def calculate_pagerank(adjacency_matrix, damping_factor=0.15, num_iterations=100):\n",
    "    num_nodes = len(adjacency_matrix)\n",
    "    initial_pagerank = [1 / num_nodes] * num_nodes  # Initialize PageRank equally for all nodes\n",
    "\n",
    "    for _ in range(num_iterations):\n",
    "        new_pagerank = [0] * num_nodes\n",
    "        for i in range(num_nodes):\n",
    "            for j in range(num_nodes):\n",
    "                if adjacency_matrix[j][i] == 1:\n",
    "                    new_pagerank[i] += initial_pagerank[j] / sum(adjacency_matrix[j])\n",
    "        for i in range(num_nodes):\n",
    "            new_pagerank[i] = (1 - damping_factor) / num_nodes + damping_factor * new_pagerank[i]\n",
    "\n",
    "        initial_pagerank = new_pagerank   \n",
    "    return initial_pagerank\n",
    "\n",
    "if __name__ == \"__main__\":\n",
    "    nodes_file_path = '/Users/coding/Desktop/network_analysis/sna_titanic/Project/Graph/nodes.csv'\n",
    "    edges_file_path = '/Users/coding/Desktop/network_analysis/sna_titanic/Project/Graph/edges.csv'\n",
    "\n",
    "    # Load the graph\n",
    "    graph = load_graph(nodes_file_path, edges_file_path)\n",
    "\n",
    "    # Convert the graph to an adjacency matrix\n",
    "    adjacency_matrix = adjacency_matrix_from_graph(graph)\n",
    "\n",
    "    # Calculate PageRank\n",
    "    pagerank = calculate_pagerank(adjacency_matrix)\n",
    "\n",
    "    # Assign PageRank values to nodes\n",
    "    for i, node in enumerate(graph.nodes()):\n",
    "        graph.nodes[node]['pagerank'] = pagerank[i]\n",
    "    print(graph.nodes(data=True))\n",
    "\n",
    "        \n"
   ]
  },
  {
   "cell_type": "code",
   "execution_count": 13,
   "metadata": {},
   "outputs": [
    {
     "data": {
      "text/plain": [
       "{'5097316': 0.032498962451122146,\n",
       " '5098095': 0.026765155628607595,\n",
       " '5097875': 0.023202761824182416,\n",
       " '5098619': 0.018027306989774672,\n",
       " '5098545': 0.01678283049932719,\n",
       " '5101061': 0.01678196621713339,\n",
       " '5096969': 0.018978991450266564,\n",
       " '5097941': 0.01740659604073832,\n",
       " '5098606': 0.016848383698217822,\n",
       " '5097894': 0.01790299279854587,\n",
       " '5098041': 0.015592837923724753,\n",
       " '5096948': 0.015845053465810388,\n",
       " '5098128': 0.015988032467500732,\n",
       " '5098463': 0.014373896538199791,\n",
       " '5098583': 0.015359994397249964,\n",
       " '5101981': 0.014292016686679579,\n",
       " '5100134': 0.013936005318640775,\n",
       " '5097212': 0.014193566775713816,\n",
       " '5101285': 0.014124600466863202,\n",
       " '5101840': 0.013930916057362831,\n",
       " '5100235': 0.01323851891052862,\n",
       " '5098242': 0.013951587691363645,\n",
       " '5102690': 0.01354740403054238,\n",
       " '5099090': 0.014434391712700972,\n",
       " '5098717': 0.013270376585601994,\n",
       " '5097994': 0.013894826536231303,\n",
       " '5101041': 0.013876242670112298,\n",
       " '5098541': 0.013059263319082394,\n",
       " '5098267': 0.01255305429906515,\n",
       " '5099110': 0.013445127766843675,\n",
       " '5103242': 0.012706159530935372,\n",
       " '5097505': 0.013862542395050333,\n",
       " '5099096': 0.013155007153629345,\n",
       " '5102237': 0.01284272354949774,\n",
       " '5102267': 0.01310526342443731,\n",
       " '5103072': 0.012406338738390275,\n",
       " '5096932': 0.012415197518864583,\n",
       " '5097262': 0.012532778884917238,\n",
       " '5102009': 0.013356396548415297,\n",
       " '5101998': 0.013356396548415297,\n",
       " '5099349': 0.012885596740365953,\n",
       " '5097161': 0.012415197518864583,\n",
       " '5097296': 0.012958912074116707,\n",
       " '5102841': 0.01222988841037295,\n",
       " '5097979': 0.012908608300178606,\n",
       " '5105151': 0.013183808526267491,\n",
       " '5102317': 0.012706810583404258,\n",
       " '5100327': 0.013106848118107604,\n",
       " '5102924': 0.012845479466514776,\n",
       " '5099499': 0.012380392163267617,\n",
       " '5104295': 0.012548075074057289,\n",
       " '5103789': 0.012659707670094993,\n",
       " '5106033': 0.012335067179136367,\n",
       " '5105104': 0.012239316069469902,\n",
       " '5102992': 0.012851256039599081,\n",
       " '5100274': 0.012737436557242956,\n",
       " '5099903': 0.012527834555282415,\n",
       " '5105174': 0.013183808526267491,\n",
       " '5098082': 0.013336317519658851,\n",
       " '5103330': 0.012187174922430674,\n",
       " '5101750': 0.012699023409325078,\n",
       " '5097915': 0.012908608300178606,\n",
       " '5098193': 0.013336317519658851,\n",
       " '5097320': 0.012958912074116707,\n",
       " '5102617': 0.012233113914095317,\n",
       " '5098088': 0.013336317519658851,\n",
       " '5099267': 0.012335067179136367,\n",
       " '5098417': 0.012237614292669867,\n",
       " '5100333': 0.013039544799657967,\n",
       " '5102939': 0.012845479466514776}"
      ]
     },
     "execution_count": 13,
     "metadata": {},
     "output_type": "execute_result"
    }
   ],
   "source": [
    "nx.pagerank(graph, alpha=0.15)"
   ]
  }
 ],
 "metadata": {
  "kernelspec": {
   "display_name": ".venv",
   "language": "python",
   "name": "python3"
  },
  "language_info": {
   "codemirror_mode": {
    "name": "ipython",
    "version": 3
   },
   "file_extension": ".py",
   "mimetype": "text/x-python",
   "name": "python",
   "nbconvert_exporter": "python",
   "pygments_lexer": "ipython3",
   "version": "3.10.10"
  }
 },
 "nbformat": 4,
 "nbformat_minor": 2
}
