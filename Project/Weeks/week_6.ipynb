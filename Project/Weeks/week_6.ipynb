{
 "cells": [
  {
   "cell_type": "markdown",
   "metadata": {},
   "source": [
    "### instructions\n",
    "0) Treat your graph as undirected and unweighted. Delete loops and work on the resulting largest\n",
    "connected component.\n",
    "1) Implement the following three techniques for community detection:\n",
    "a) Bridge removal (pick the partition with the highest modularity), b) Modularity optimization, c) Label\n",
    "propagation.\n",
    "In this case, you are allowed to use built-in functions from NetworkX.\n",
    "2) Compare the results of each technique in terms of: a) number of detected clusters, b) cluster size\n",
    "distribution, c) computational time, e) modularity, f) other aspects you consider relevant, if any. Results\n",
    "should be presented in a table.\n",
    "3) Give an interpretation to the differences and similarities between the three resulting partitions, and\n",
    "discuss which one you think is the best and why.\n",
    "4) Provide a visualization for the partition you decided to be the best using Gephi.\n",
    "5) Optional: for each pair of partitions compute the NMI between them and discuss."
   ]
  }
 ],
 "metadata": {
  "language_info": {
   "name": "python"
  }
 },
 "nbformat": 4,
 "nbformat_minor": 2
}
