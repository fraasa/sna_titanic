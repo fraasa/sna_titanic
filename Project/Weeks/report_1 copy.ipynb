{
 "cells": [
  {
   "cell_type": "markdown",
   "metadata": {},
   "source": [
    "# Social Network Analysis Project: Report 1\n",
    "# Exploring the *Titanic* dataset\n",
    "\n",
    "## Introduction - *Unveiling Titanic's Social Fabric: A Network Analysis*\n",
    "\n",
    "### Group F members\n",
    "The minds behind this journey are: **Leonardo Azzi**, **Sofia Bruni**, **Francesca Romana Sanna**, **Alexandra Tabarani** and **Marta Torella**, five students of the Bachelor in Management and Computer Science.\n",
    "\n",
    "Throughout the course weeks, we aim to not only visually represent these connections but also analyze them through various graph metrics.\n",
    "\n",
    "In our project, the **characters** aboard the Titanic take center stage as *nodes*, while the *edges* connecting them represent **shared scenes**, their *weights* reflecting the **frequency** of these shared appearences.\n",
    "This analytical approach allows us to decode the complex web of interactions that shaped the destinies of the movie characters.\n",
    "\n",
    "Through meticulous examination, we will be able to uncover the characters as well as the patterns of connection that lie underneath the narrative.\n",
    "\n",
    "*Join us as we sail through the Titanic's data!*"
   ]
  },
  {
   "cell_type": "markdown",
   "metadata": {},
   "source": [
    "### Imports\n",
    "We start by importing the necessary libraries for our analysis."
   ]
  },
  {
   "cell_type": "code",
   "execution_count": 3,
   "metadata": {},
   "outputs": [],
   "source": [
    "# Basic Imports with aliases\n",
    "import numpy as np \n",
    "import matplotlib.pyplot as plt\n",
    "import csv\n",
    "import networkx as nx"
   ]
  },
  {
   "cell_type": "markdown",
   "metadata": {},
   "source": [
    "## Week 1: *Introduction to Graph Creation and Basic Analysis*\n",
    "\n",
    "### Objective\n",
    "The primary objective this week was to construct a visual representation of a graph, representing the relationships and interactions among the characters in the Titanic dataset.\n",
    "\n",
    "### Graph Construction\n",
    "In our graphical "
   ]
  },
  {
   "cell_type": "markdown",
   "metadata": {},
   "source": [
    "### Loading the data from the given CSV files"
   ]
  },
  {
   "cell_type": "code",
   "execution_count": 4,
   "metadata": {},
   "outputs": [],
   "source": [
    "G = nx.Graph() # Create a graph\n",
    "\n",
    "# Read nodes from *nodes.csv* file\n",
    "with open('../Graph/nodes.csv', 'r') as file:       # Open the CSV file\n",
    "    reader = csv.DictReader(file)                   # DictReader is a class that reads a CSV file and converts it into a dictionary\n",
    "    for row in reader:                              # Iterate over the rows of the CSV file, each row is a dictionary\n",
    "        G.add_node(row['Id'], label=row['Label'])   # Add a node to the graph with the node id and label\n",
    "\n",
    "# Read edges from *edges.csv* file\n",
    "with open('../Graph/edges.csv', 'r') as file:\n",
    "    reader = csv.DictReader(file)\n",
    "    for row in reader:\n",
    "        G.add_edge(row['Source'], row['Target'], weight=int(row['Weight'])) # Add an edge to the graph with the source, target and weight\n"
   ]
  },
  {
   "cell_type": "markdown",
   "metadata": {},
   "source": [
    "### Plotting the graph"
   ]
  },
  {
   "cell_type": "code",
   "execution_count": null,
   "metadata": {},
   "outputs": [],
   "source": [
    "# Setting up the plot dimensions\n",
    "plt.figure(figsize=(18, 18))\n",
    "\n",
    "# Use the spring layout algorithm for positioning the nodes\n",
    "pos = nx.spring_layout(G)\n",
    "\n",
    "# Adjust node sizes based on their degrees"
   ]
  }
 ],
 "metadata": {
  "kernelspec": {
   "display_name": ".venv",
   "language": "python",
   "name": "python3"
  },
  "language_info": {
   "codemirror_mode": {
    "name": "ipython",
    "version": 3
   },
   "file_extension": ".py",
   "mimetype": "text/x-python",
   "name": "python",
   "nbconvert_exporter": "python",
   "pygments_lexer": "ipython3",
   "version": "3.10.10"
  }
 },
 "nbformat": 4,
 "nbformat_minor": 2
}
