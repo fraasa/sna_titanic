{
 "cells": [
  {
   "cell_type": "markdown",
   "metadata": {},
   "source": [
    "a. Program preferential attachment by hand using only basic functions of networkx such that 1\n",
    "node appears by stage and creates m links.\n",
    "\n",
    "b. Compute in your graph what is the average degree.\n",
    "\n",
    "c. Choose the parameter m that an average degree in the random graph closest to the one of\n",
    "your graph\n",
    "\n",
    "d. Compare the two graphs in terms of at least two caracteristics: average clustering, degree\n",
    "distributions, transitivity, average distance from one node, diameter, any centrality distribution,….\n",
    "\n",
    "e. (Optional) Provide any variant to improve the prediction"
   ]
  },
  {
   "cell_type": "code",
   "execution_count": 2,
   "metadata": {},
   "outputs": [
    {
     "name": "stdout",
     "output_type": "stream",
     "text": [
      "Average degree before preferential attachment: 8.542857142857143\n",
      "New average degree after preferential attachment: 14.105882352941176\n"
     ]
    }
   ],
   "source": [
    "import random\n",
    "import networkx as nx\n",
    "import pandas as pd\n",
    "import matplotlib.pyplot as plt\n",
    "\n",
    "def preferential_attachment(G, m, new_nodes):\n",
    "    for i in range(new_nodes):\n",
    "        # Get the current degrees of the existing nodes\n",
    "        degrees = dict(G.degree())\n",
    "        total_degree = sum(degrees.values())\n",
    "\n",
    "        # Calculate the probability of connecting to each node\n",
    "        probabilities = [degree / total_degree for degree in degrees.values()]\n",
    "\n",
    "        # Choose m unique nodes based on their degree probability\n",
    "        target_nodes = set()\n",
    "        while len(target_nodes) < m:\n",
    "            target_nodes.update(\n",
    "                random.choices(list(degrees.keys()), weights=probabilities, k=m - len(target_nodes))\n",
    "            )\n",
    "        \n",
    "        # Add a new node with edges to the m selected nodes\n",
    "        new_node_id = max(G.nodes) + 1  # Assuming the node IDs are numeric and incremental\n",
    "        G.add_node(new_node_id)\n",
    "        for target_node in target_nodes:\n",
    "            G.add_edge(new_node_id, target_node)\n",
    "\n",
    "    return G\n",
    "\n",
    "# Initialize a new graph and add nodes and edges from CSV data\n",
    "G = nx.Graph()\n",
    "nodes_df = pd.read_csv('../Graph/nodes.csv')\n",
    "edges_df = pd.read_csv('../Graph/edges.csv')\n",
    "G.add_nodes_from(nodes_df['Id'])\n",
    "G.add_edges_from(edges_df[['Source', 'Target']].values)\n",
    "\n",
    "#calculate the average degree of the graph before preferential attachment\n",
    "average_degree = sum(dict(G.degree()).values()) / G.number_of_nodes()\n",
    "\n",
    "# Display the average degree\n",
    "print(f\"Average degree before preferential attachment: {average_degree}\")\n",
    "\n",
    "# Parameters for the PA model\n",
    "new_nodes = 100  # Number of new nodes to add\n",
    "m = 9  # Number of edges each new node will create\n",
    "\n",
    "# Apply the preferential attachment model to the graph\n",
    "G = preferential_attachment(G, m, new_nodes)\n",
    "\n",
    "\n",
    "# Calculate the new average degree of the graph after preferential attachment\n",
    "new_average_degree = sum(dict(G.degree()).values()) / G.number_of_nodes()\n",
    "\n",
    "# Display the new average degree\n",
    "print(f\"New average degree after preferential attachment: {new_average_degree}\")\n",
    "\n",
    "\n"
   ]
  },
  {
   "cell_type": "code",
   "execution_count": 3,
   "metadata": {},
   "outputs": [
    {
     "name": "stdout",
     "output_type": "stream",
     "text": [
      "Average degree of the random graph: 14.282352941176471\n",
      "Probability p used for the random graph: 0.08346675948485903\n"
     ]
    }
   ],
   "source": [
    "# Calculate the probability p for the random graph\n",
    "n = G.number_of_nodes()  # Total number of nodes in the PA graph\n",
    "p = new_average_degree / (n - 1)\n",
    "\n",
    "# Generate a random graph G_random with the calculated probability p\n",
    "G_random = nx.erdos_renyi_graph(n, p)\n",
    "\n",
    "# Calculate the average degree of the random graph\n",
    "average_degree_random = sum(dict(G_random.degree()).values()) / G_random.number_of_nodes()\n",
    "\n",
    "# Display the average degree of the random graph and the probability p\n",
    "print(f\"Average degree of the random graph: {average_degree_random}\")\n",
    "print(f\"Probability p used for the random graph: {p}\")\n"
   ]
  },
  {
   "cell_type": "code",
   "execution_count": 4,
   "metadata": {},
   "outputs": [
    {
     "name": "stdout",
     "output_type": "stream",
     "text": [
      "Preferential Attachment Graph Characteristics :\n",
      "average_clustering: 0.24377997310058974\n",
      "transitivity: 0.18435368937246188\n",
      "average_shortest_path_length: 2.1554472676644623\n",
      "diameter: 4\n",
      "\n",
      "Random Graph Characteristics (Corrected):\n",
      "average_clustering: 0.07919391347481182\n",
      "transitivity: 0.08042895442359249\n",
      "average_shortest_path_length: 2.188722589627567\n",
      "diameter: 4\n"
     ]
    }
   ],
   "source": [
    "# Function to calculate characteristics of a graph\n",
    "def graph_characteristics(G):\n",
    "    characteristics = {}\n",
    "    # Calculate Average clustering coefficient\n",
    "    characteristics['average_clustering'] = nx.average_clustering(G)\n",
    "    # Calculate Transitivity\n",
    "    characteristics['transitivity'] = nx.transitivity(G)\n",
    "    # Get the Degree Distribution\n",
    "    degrees = [degree for node, degree in G.degree()]\n",
    "    characteristics['degree_distribution'] = degrees\n",
    "    \n",
    "    # For the largest connected component\n",
    "    if nx.is_connected(G):\n",
    "        LCC = G  # If the graph is connected, no need to find LCC\n",
    "    else:\n",
    "        # Find the largest connected component\n",
    "        largest_cc = max(nx.connected_components(G), key=len)\n",
    "        LCC = G.subgraph(largest_cc).copy()\n",
    "    \n",
    "    # Calculate Average shortest path length (only for LCC)\n",
    "    characteristics['average_shortest_path_length'] = nx.average_shortest_path_length(LCC)\n",
    "    # Calculate Diameter (only for LCC)\n",
    "    characteristics['diameter'] = nx.diameter(LCC)\n",
    "    # Degree Centrality Distribution\n",
    "    characteristics['degree_centrality'] = nx.degree_centrality(G)\n",
    "    \n",
    "    return characteristics\n",
    "\n",
    "# Calculate characteristics for PA graph and Random graph\n",
    "characteristics_PA_corrected = graph_characteristics(G)\n",
    "characteristics_random_corrected = graph_characteristics(G_random)\n",
    "\n",
    "# Print out the results for comparison\n",
    "print(\"Preferential Attachment Graph Characteristics :\")\n",
    "for k, v in characteristics_PA_corrected.items():\n",
    "    if k != 'degree_distribution' and k != 'degree_centrality':\n",
    "        print(f\"{k}: {v}\")\n",
    "\n",
    "print(\"\\nRandom Graph Characteristics:\")\n",
    "for k, v in characteristics_random_corrected.items():\n",
    "    if k != 'degree_distribution' and k != 'degree_centrality':\n",
    "        print(f\"{k}: {v}\")\n",
    "\n"
   ]
  },
  {
   "cell_type": "markdown",
   "metadata": {},
   "source": [
    "**Preferential Attachment Graph Characteristics:**\n",
    "- Average clustering coefficient: 0.247\n",
    "- Transitivity: 0.184\n",
    "- Average shortest path length: 2.164 (calculated for the largest connected component)\n",
    "- Diameter: 4 (calculated for the largest connected component)\n",
    "\n",
    "**Random Graph Characteristics:**\n",
    "- Average clustering coefficient: 0.078\n",
    "- Transitivity: 0.079\n",
    "- Average shortest path length: 2.239 (calculated for the largest connected component)\n",
    "- Diameter: 4 (calculated for the largest connected component)\n",
    "\n",
    "The average clustering coefficient and transitivity are higher in the PA graph than in the random graph, which is typical for networks that have developed under a preferential attachment mechanism. They tend to have a more clustered structure with nodes of higher degrees forming tightly knit communities. In contrast, random graphs usually have a lower probability of clustering.\n",
    "\n",
    "The average shortest path length is slightly lower in the PA graph, indicating that, on average, nodes are more directly connected to each other than in the random graph. This is another common feature of scale-free networks formed by preferential attachment, where the presence of highly connected hubs facilitates shorter paths across the network.\n",
    "\n",
    "The diameter, which is the longest shortest path in the network, is the same for both graphs. This suggests that despite the differences in their local structures, the extent of the networks is similar.\n"
   ]
  }
 ],
 "metadata": {
  "kernelspec": {
   "display_name": "Python 3",
   "language": "python",
   "name": "python3"
  },
  "language_info": {
   "codemirror_mode": {
    "name": "ipython",
    "version": 3
   },
   "file_extension": ".py",
   "mimetype": "text/x-python",
   "name": "python",
   "nbconvert_exporter": "python",
   "pygments_lexer": "ipython3",
   "version": "3.11.6"
  }
 },
 "nbformat": 4,
 "nbformat_minor": 2
}
