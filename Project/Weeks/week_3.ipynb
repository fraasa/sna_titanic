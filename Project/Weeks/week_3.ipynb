{
 "cells": [
  {
   "cell_type": "markdown",
   "metadata": {},
   "source": [
    "# Week 3\n",
    "Depending on what seems more relevant in your graph, pick one of the following local notions:\n",
    "- Decay centrality\n",
    "- Betweeness centrality\n",
    "- Closeness centrality\n",
    "- Clustering\n",
    "- Any other notions that you invent\n",
    "1) Provide a code computing the given centrality using basic functions of networkx (you are not allowed touse directly nx.\"what you want\").\n",
    "2) Discuss why you picked this measure and who is the most central in your network based on yourchoice.\n",
    "3) Provide the cumulative distribution for this centrality and give a graphical representation of your graph(log-log, log or normal representation as you think it is more relevant)."
   ]
  }
 ],
 "metadata": {
  "kernelspec": {
   "display_name": ".venv",
   "language": "python",
   "name": "python3"
  },
  "language_info": {
   "name": "python",
   "version": "3.10.10"
  }
 },
 "nbformat": 4,
 "nbformat_minor": 2
}
