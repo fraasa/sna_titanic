{
 "cells": [
  {
   "cell_type": "code",
   "execution_count": 6,
   "metadata": {},
   "outputs": [],
   "source": [
    "import csv\n",
    "import networkx as nx\n",
    "import matplotlib.pyplot as plt\n",
    "import numpy as np\n",
    "\n",
    "# Read nodes from the CSV file\n",
    "G = nx.Graph()\n",
    "with open('../Graph/nodes.csv', 'r') as file:\n",
    "    reader = csv.DictReader(file)\n",
    "    for row in reader:\n",
    "        G.add_node(row['Id'], label=row['Label'])\n",
    "\n",
    "# Read edges from the CSV file\n",
    "with open('../Graph/edges.csv', 'r') as file:\n",
    "    reader = csv.DictReader(file)\n",
    "    for row in reader:\n",
    "        G.add_edge(row['Source'], row['Target'], weight=int(row['Weight']))\n"
   ]
  },
  {
   "cell_type": "markdown",
   "metadata": {},
   "source": [
    "## Week 1 Code - For reference & utility"
   ]
  },
  {
   "cell_type": "code",
   "execution_count": 7,
   "metadata": {},
   "outputs": [
    {
     "name": "stdout",
     "output_type": "stream",
     "text": [
      "Number of nodes:  70\n"
     ]
    }
   ],
   "source": [
    "#number of nodes\n",
    "print(\"Number of nodes: \", G.number_of_nodes())"
   ]
  },
  {
   "cell_type": "code",
   "execution_count": 8,
   "metadata": {},
   "outputs": [
    {
     "name": "stdout",
     "output_type": "stream",
     "text": [
      "Number of edges:  299\n"
     ]
    }
   ],
   "source": [
    "#number of edges\n",
    "print(\"Number of edges: \", G.number_of_edges())"
   ]
  },
  {
   "cell_type": "code",
   "execution_count": 9,
   "metadata": {},
   "outputs": [
    {
     "name": "stdout",
     "output_type": "stream",
     "text": [
      "Average degree:  8.542857142857143\n"
     ]
    }
   ],
   "source": [
    "#average degree\n",
    "print(\"Average degree: \", np.mean([d for n, d in G.degree()]))"
   ]
  },
  {
   "cell_type": "code",
   "execution_count": 10,
   "metadata": {},
   "outputs": [
    {
     "name": "stdout",
     "output_type": "stream",
     "text": [
      "Density:  0.12380952380952381\n"
     ]
    }
   ],
   "source": [
    "#density\n",
    "print(\"Density: \", nx.density(G))"
   ]
  },
  {
   "cell_type": "markdown",
   "metadata": {},
   "source": [
    "## Week 2 Code\n",
    "\n",
    "### Todo:\n",
    "1. Compute Average clustering and Transitivity number,\n",
    "2. Implement a function computing the transitivity using basic function of networkx"
   ]
  },
  {
   "cell_type": "code",
   "execution_count": 11,
   "metadata": {},
   "outputs": [
    {
     "name": "stdout",
     "output_type": "stream",
     "text": [
      "Average Clustering: 0.7436551486762099\n",
      "Transitivity: 0.39350485027414595\n"
     ]
    }
   ],
   "source": [
    "# Compute Average Clustering\n",
    "avg_clustering = nx.average_clustering(G)\n",
    "\n",
    "# Compute Transitivity\n",
    "transitivity = nx.transitivity(G)\n",
    "\n",
    "print(\"Average Clustering:\", avg_clustering)\n",
    "print(\"Transitivity:\", transitivity)\n"
   ]
  },
  {
   "cell_type": "code",
   "execution_count": 18,
   "metadata": {},
   "outputs": [
    {
     "data": {
      "text/plain": [
       "0.39350485027414595"
      ]
     },
     "execution_count": 18,
     "metadata": {},
     "output_type": "execute_result"
    }
   ],
   "source": [
    "def compute_transitivity(graph):\n",
    "    # Count the number of triangles\n",
    "    triangles = sum(nx.triangles(graph).values()) // 3  # Each triangle is counted 3 times\n",
    "\n",
    "    # Count the number of connected triples\n",
    "    connected_triples = 0\n",
    "    for node in graph.nodes():\n",
    "        k = len(list(graph.neighbors(node)))\n",
    "        connected_triples += k * (k - 1) // 2\n",
    "\n",
    "    # Compute transitivity\n",
    "    if connected_triples == 0:\n",
    "        return 0\n",
    "    else:\n",
    "        return (3 * triangles) / connected_triples\n",
    "\n",
    "transitivity = compute_transitivity(G)\n",
    "transitivity\n"
   ]
  }
 ],
 "metadata": {
  "kernelspec": {
   "display_name": ".venv",
   "language": "python",
   "name": "python3"
  },
  "language_info": {
   "codemirror_mode": {
    "name": "ipython",
    "version": 3
   },
   "file_extension": ".py",
   "mimetype": "text/x-python",
   "name": "python",
   "nbconvert_exporter": "python",
   "pygments_lexer": "ipython3",
   "version": "3.10.10"
  },
  "orig_nbformat": 4
 },
 "nbformat": 4,
 "nbformat_minor": 2
}
