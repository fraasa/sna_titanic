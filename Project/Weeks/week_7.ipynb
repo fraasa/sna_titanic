{
 "cells": [
  {
   "cell_type": "markdown",
   "metadata": {},
   "source": [
    "### instructions\n",
    "0) Treat your graph as undirected and unweighted, and work on the resulting largest connected\n",
    "component. Delete loops\n",
    "1) Create a function computing CN and one of the topological indices between JI,PA,AA,RA.\n",
    "Your function should return a pandaframe where each row is a missing link and each column is\n",
    "an index. You are allowed to use built-in functions from NetworkX for computing individual\n",
    "indices.\n",
    "2) Create a third score by adding a column with the arithmetic mean between the two indices.\n",
    "[NB: the arithmetic mean should be computed after rescaling each column between 0 and 1.]\n",
    "3) For each of the 3 scores, identify as missing links the node pairs yielding the largest 5 values.\n",
    "Briefly comment the results.\n",
    "4) Optional: Invent a new index/score and compare the result"
   ]
  },
  {
   "cell_type": "code",
   "execution_count": 10,
   "metadata": {},
   "outputs": [
    {
     "name": "stdout",
     "output_type": "stream",
     "text": [
      "The number of nodes in the LCC is: 70\n",
      "The number of edges in the LCC is: 299\n"
     ]
    }
   ],
   "source": [
    "import networkx as nx\n",
    "import csv\n",
    "import matplotlib.pyplot as plt\n",
    "import numpy as np\n",
    "import pandas as pd\n",
    "\n",
    "def load_graph(nodes_file_path, edges_file_path):\n",
    "    G = nx.DiGraph()\n",
    "    with open(nodes_file_path, 'r') as file:\n",
    "        reader = csv.DictReader(file)\n",
    "        for row in reader:\n",
    "            G.add_node(row['Id'], label=row['Label'])\n",
    "\n",
    "    with open(edges_file_path, 'r') as file:\n",
    "        reader = csv.DictReader(file)\n",
    "        for row in reader:\n",
    "            G.add_edge(row['Source'], row['Target'], weight=1)\n",
    "\n",
    "    U = G.to_undirected()  # Transform the graph into an undirected and unweighted graph\n",
    "    U.remove_edges_from(nx.selfloop_edges(U))  # Remove self loops\n",
    "    \n",
    "    # Check the size of the largest connected component\n",
    "    LCCNodes = list(max(nx.connected_components(U), key=len))\n",
    "    LCC = U.subgraph(LCCNodes)\n",
    "    print(\"The number of nodes in the LCC is:\", LCC.number_of_nodes())\n",
    "    print(\"The number of edges in the LCC is:\", LCC.number_of_edges())\n",
    "load_graph('../Graph/nodes.csv', '../Graph/edges.csv')\n",
    "\n",
    "\n"
   ]
  },
  {
   "cell_type": "code",
   "execution_count": 19,
   "metadata": {},
   "outputs": [
    {
     "name": "stdout",
     "output_type": "stream",
     "text": [
      "          Node1     Node2  CN   PA\n",
      "0           IDA    GRACIE   3   75\n",
      "1           IDA  PHILLIPS   0   10\n",
      "2           IDA      RUTH   4  125\n",
      "3           IDA    BODINE   0   40\n",
      "4           IDA     BRIDE   1   20\n",
      "...         ...       ...  ..  ...\n",
      "2111  CAMERAMAN    DANIEL   0   14\n",
      "2112  CAMERAMAN     BROCK   2   10\n",
      "2113       JACK    DANIEL   6  273\n",
      "2114       JACK     BROCK   1  195\n",
      "2115     DANIEL     BROCK   1   35\n",
      "\n",
      "[2116 rows x 4 columns]\n"
     ]
    }
   ],
   "source": [
    "def load_graph(nodes_file_path, edges_file_path):\n",
    "    G = nx.Graph()  # Assuming undirected graph\n",
    "    \n",
    "    with open(nodes_file_path, 'r') as file:\n",
    "        reader = csv.DictReader(file)\n",
    "        for row in reader:\n",
    "            G.add_node(row['Id'], label=row['Label'])\n",
    "\n",
    "    with open(edges_file_path, 'r') as file:\n",
    "        reader = csv.DictReader(file)\n",
    "        for row in reader:\n",
    "            G.add_edge(row['Source'], row['Target'])\n",
    "    \n",
    "    return G\n",
    "\n",
    "def compute_CN_PA(graph):\n",
    "    # Get all non-edges from the graph (potential future links)\n",
    "    non_edges = list(nx.non_edges(graph))\n",
    "    \n",
    "    # Calculate Common Neighbors (CN) for each non-edge\n",
    "    CN = [(graph.nodes[u]['label'], graph.nodes[v]['label'], len(list(nx.common_neighbors(graph, u, v)))) for u, v in non_edges]\n",
    "    \n",
    "    # Calculate Preferential Attachment (PA) for each non-edge\n",
    "    PA = [(graph.nodes[u]['label'], graph.nodes[v]['label'], graph.degree(u) * graph.degree(v)) for u, v in non_edges]\n",
    "    \n",
    "    # Convert the results to a dataframe\n",
    "    df = pd.DataFrame({\n",
    "        'Node1': [u for u, v, _ in CN],\n",
    "        'Node2': [v for u, v, _ in CN],\n",
    "        'CN': [index for _, _, index in CN],\n",
    "        'PA': [index for _, _, index in PA]\n",
    "    })\n",
    "\n",
    "    return df\n",
    "\n",
    "graph = load_graph('../Graph/nodes.csv', '../Graph/edges.csv')\n",
    "df = compute_CN_PA(graph)\n",
    "print(df)\n"
   ]
  }
 ],
 "metadata": {
  "kernelspec": {
   "display_name": "Python 3",
   "language": "python",
   "name": "python3"
  },
  "language_info": {
   "codemirror_mode": {
    "name": "ipython",
    "version": 3
   },
   "file_extension": ".py",
   "mimetype": "text/x-python",
   "name": "python",
   "nbconvert_exporter": "python",
   "pygments_lexer": "ipython3",
   "version": "3.11.6"
  }
 },
 "nbformat": 4,
 "nbformat_minor": 2
}
